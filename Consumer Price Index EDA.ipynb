{
 "cells": [
  {
   "cell_type": "code",
   "execution_count": 16,
   "metadata": {},
   "outputs": [],
   "source": [
    "import pandas as pd\n",
    "import numpy as np\n",
    "import seaborn as sns\n",
    "from scipy import stats\n",
    "\n",
    "import matplotlib.pyplot as plt"
   ]
  },
  {
   "cell_type": "code",
   "execution_count": 22,
   "metadata": {},
   "outputs": [],
   "source": [
    "consumer_price_index_annually_df = pd.read_csv('Datasets\\\\Consumer Price Index\\\\Consumer_Price_Index_Annually.csv')\n",
    "consumer_price_index_monthly_df = pd.read_csv('Datasets\\\\Consumer Price Index\\\\Consumer_Price_Index_Monthly.csv')\n",
    "consumer_price_index_quarterly_df = pd.read_csv('Datasets\\\\Consumer Price Index\\\\Consumer_Price_Index_Quarterly.csv')"
   ]
  }
 ],
 "metadata": {
  "kernelspec": {
   "display_name": "Python 3",
   "language": "python",
   "name": "python3"
  },
  "language_info": {
   "codemirror_mode": {
    "name": "ipython",
    "version": 3
   },
   "file_extension": ".py",
   "mimetype": "text/x-python",
   "name": "python",
   "nbconvert_exporter": "python",
   "pygments_lexer": "ipython3",
   "version": "3.12.4"
  }
 },
 "nbformat": 4,
 "nbformat_minor": 2
}
