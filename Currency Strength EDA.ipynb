{
 "cells": [
  {
   "cell_type": "code",
   "execution_count": 5,
   "metadata": {},
   "outputs": [],
   "source": [
    "import pandas as pd\n",
    "import numpy as np\n",
    "import seaborn as sns\n",
    "from scipy import stats\n",
    "\n",
    "import matplotlib.pyplot as plt"
   ]
  },
  {
   "cell_type": "code",
   "execution_count": 6,
   "metadata": {},
   "outputs": [],
   "source": [
    "aed_to_usd_df = pd.read_csv('Datasets\\\\Currency Strength\\\\AED-USD.csv')"
   ]
  },
  {
   "cell_type": "markdown",
   "metadata": {},
   "source": [
    "## Data Understanding"
   ]
  },
  {
   "cell_type": "code",
   "execution_count": 7,
   "metadata": {},
   "outputs": [
    {
     "data": {
      "text/html": [
       "<div>\n",
       "<style scoped>\n",
       "    .dataframe tbody tr th:only-of-type {\n",
       "        vertical-align: middle;\n",
       "    }\n",
       "\n",
       "    .dataframe tbody tr th {\n",
       "        vertical-align: top;\n",
       "    }\n",
       "\n",
       "    .dataframe thead th {\n",
       "        text-align: right;\n",
       "    }\n",
       "</style>\n",
       "<table border=\"1\" class=\"dataframe\">\n",
       "  <thead>\n",
       "    <tr style=\"text-align: right;\">\n",
       "      <th></th>\n",
       "      <th>Unnamed: 0</th>\n",
       "      <th>Open</th>\n",
       "      <th>High</th>\n",
       "      <th>Low</th>\n",
       "      <th>Close</th>\n",
       "      <th>Adj Close</th>\n",
       "      <th>Volume</th>\n",
       "      <th>Date</th>\n",
       "      <th>Return</th>\n",
       "    </tr>\n",
       "  </thead>\n",
       "  <tbody>\n",
       "    <tr>\n",
       "      <th>0</th>\n",
       "      <td>0</td>\n",
       "      <td>0.272331</td>\n",
       "      <td>0.272368</td>\n",
       "      <td>0.272331</td>\n",
       "      <td>0.272368</td>\n",
       "      <td>0.272368</td>\n",
       "      <td>0</td>\n",
       "      <td>2003-12-01</td>\n",
       "      <td>NaN</td>\n",
       "    </tr>\n",
       "    <tr>\n",
       "      <th>1</th>\n",
       "      <td>1</td>\n",
       "      <td>0.272413</td>\n",
       "      <td>0.272420</td>\n",
       "      <td>0.272331</td>\n",
       "      <td>0.272368</td>\n",
       "      <td>0.272368</td>\n",
       "      <td>0</td>\n",
       "      <td>2003-12-02</td>\n",
       "      <td>0.000000</td>\n",
       "    </tr>\n",
       "    <tr>\n",
       "      <th>2</th>\n",
       "      <td>2</td>\n",
       "      <td>0.272339</td>\n",
       "      <td>0.272368</td>\n",
       "      <td>0.272331</td>\n",
       "      <td>0.272368</td>\n",
       "      <td>0.272368</td>\n",
       "      <td>0</td>\n",
       "      <td>2003-12-03</td>\n",
       "      <td>0.000000</td>\n",
       "    </tr>\n",
       "    <tr>\n",
       "      <th>3</th>\n",
       "      <td>3</td>\n",
       "      <td>0.272346</td>\n",
       "      <td>0.272368</td>\n",
       "      <td>0.272331</td>\n",
       "      <td>0.272368</td>\n",
       "      <td>0.272368</td>\n",
       "      <td>0</td>\n",
       "      <td>2003-12-04</td>\n",
       "      <td>0.000000</td>\n",
       "    </tr>\n",
       "    <tr>\n",
       "      <th>4</th>\n",
       "      <td>4</td>\n",
       "      <td>0.272339</td>\n",
       "      <td>0.272346</td>\n",
       "      <td>0.272331</td>\n",
       "      <td>0.272346</td>\n",
       "      <td>0.272346</td>\n",
       "      <td>0</td>\n",
       "      <td>2003-12-05</td>\n",
       "      <td>-0.008174</td>\n",
       "    </tr>\n",
       "  </tbody>\n",
       "</table>\n",
       "</div>"
      ],
      "text/plain": [
       "   Unnamed: 0      Open      High       Low     Close  Adj Close  Volume  \\\n",
       "0           0  0.272331  0.272368  0.272331  0.272368   0.272368       0   \n",
       "1           1  0.272413  0.272420  0.272331  0.272368   0.272368       0   \n",
       "2           2  0.272339  0.272368  0.272331  0.272368   0.272368       0   \n",
       "3           3  0.272346  0.272368  0.272331  0.272368   0.272368       0   \n",
       "4           4  0.272339  0.272346  0.272331  0.272346   0.272346       0   \n",
       "\n",
       "         Date    Return  \n",
       "0  2003-12-01       NaN  \n",
       "1  2003-12-02  0.000000  \n",
       "2  2003-12-03  0.000000  \n",
       "3  2003-12-04  0.000000  \n",
       "4  2003-12-05 -0.008174  "
      ]
     },
     "execution_count": 7,
     "metadata": {},
     "output_type": "execute_result"
    }
   ],
   "source": [
    "aed_to_usd_df.head()"
   ]
  },
  {
   "cell_type": "code",
   "execution_count": 8,
   "metadata": {},
   "outputs": [
    {
     "name": "stdout",
     "output_type": "stream",
     "text": [
      "<class 'pandas.core.frame.DataFrame'>\n",
      "RangeIndex: 5468 entries, 0 to 5467\n",
      "Data columns (total 9 columns):\n",
      " #   Column      Non-Null Count  Dtype  \n",
      "---  ------      --------------  -----  \n",
      " 0   Unnamed: 0  5468 non-null   int64  \n",
      " 1   Open        5468 non-null   float64\n",
      " 2   High        5468 non-null   float64\n",
      " 3   Low         5468 non-null   float64\n",
      " 4   Close       5468 non-null   float64\n",
      " 5   Adj Close   5468 non-null   float64\n",
      " 6   Volume      5468 non-null   int64  \n",
      " 7   Date        5468 non-null   object \n",
      " 8   Return      5467 non-null   float64\n",
      "dtypes: float64(6), int64(2), object(1)\n",
      "memory usage: 384.6+ KB\n"
     ]
    }
   ],
   "source": [
    "aed_to_usd_df.info()"
   ]
  },
  {
   "cell_type": "code",
   "execution_count": 9,
   "metadata": {},
   "outputs": [
    {
     "name": "stdout",
     "output_type": "stream",
     "text": [
      "Unnamed: 0                    5468\n",
      "Open                          117\n",
      "High                          172\n",
      "Low                           100\n",
      "Close                         116\n",
      "Adj Close                     116\n",
      "Volume                        1\n",
      "Date                          5468\n",
      "Return                        624\n"
     ]
    }
   ],
   "source": [
    "for column in aed_to_usd_df.columns:\n",
    "    unique_values = aed_to_usd_df[column].nunique()\n",
    "    print(\"{:<30}{}\".format(column, unique_values))"
   ]
  },
  {
   "cell_type": "code",
   "execution_count": 10,
   "metadata": {},
   "outputs": [
    {
     "name": "stdout",
     "output_type": "stream",
     "text": [
      "Unnamed: 0                    Unnamed: 0\n",
      "0       1\n",
      "3643    1\n",
      "3651    1\n",
      "3650    1\n",
      "3649    1\n",
      "       ..\n",
      "1820    1\n",
      "1819    1\n",
      "1818    1\n",
      "1817    1\n",
      "5467    1\n",
      "Name: count, Length: 5468, dtype: int64\n",
      "Open                          Open\n",
      "0.272331    1396\n",
      "0.272324    1113\n",
      "0.272316     727\n",
      "0.272339     442\n",
      "0.272405     256\n",
      "            ... \n",
      "0.272316       1\n",
      "0.272428       1\n",
      "0.272312       1\n",
      "0.273973       1\n",
      "0.272277       1\n",
      "Name: count, Length: 117, dtype: int64\n",
      "High                          High\n",
      "0.272331    1496\n",
      "0.272339     842\n",
      "0.272368     496\n",
      "0.272346     418\n",
      "0.272324     384\n",
      "            ... \n",
      "0.272576       1\n",
      "0.272385       1\n",
      "0.272430       1\n",
      "0.272427       1\n",
      "0.272280       1\n",
      "Name: count, Length: 172, dtype: int64\n",
      "Low                           Low\n",
      "0.272264    2859\n",
      "0.272272     689\n",
      "0.272324     300\n",
      "0.272279     204\n",
      "0.272316     195\n",
      "            ... \n",
      "0.272376       1\n",
      "0.272363       1\n",
      "0.272350       1\n",
      "0.272356       1\n",
      "0.272591       1\n",
      "Name: count, Length: 100, dtype: int64\n",
      "Close                         Close\n",
      "0.272331    1160\n",
      "0.272324     953\n",
      "0.272316     666\n",
      "0.272339     340\n",
      "0.272272     337\n",
      "            ... \n",
      "0.272628       1\n",
      "0.272350       1\n",
      "0.272341       1\n",
      "0.272327       1\n",
      "0.272274       1\n",
      "Name: count, Length: 116, dtype: int64\n",
      "Adj Close                     Adj Close\n",
      "0.272331    1160\n",
      "0.272324     953\n",
      "0.272316     666\n",
      "0.272339     340\n",
      "0.272272     337\n",
      "            ... \n",
      "0.272628       1\n",
      "0.272350       1\n",
      "0.272341       1\n",
      "0.272327       1\n",
      "0.272274       1\n",
      "Name: count, Length: 116, dtype: int64\n",
      "Volume                        Volume\n",
      "0    5468\n",
      "Name: count, dtype: int64\n",
      "Date                          Date\n",
      "2003-12-01    1\n",
      "2017-12-01    1\n",
      "2017-12-13    1\n",
      "2017-12-12    1\n",
      "2017-12-11    1\n",
      "             ..\n",
      "2010-12-07    1\n",
      "2010-12-06    1\n",
      "2010-12-03    1\n",
      "2010-12-02    1\n",
      "2024-12-02    1\n",
      "Name: count, Length: 5468, dtype: int64\n",
      "Return                        Return\n",
      " 0.000000    2455\n",
      "-0.002725     154\n",
      " 0.002725     149\n",
      "-0.002725      69\n",
      " 0.002725      64\n",
      "             ... \n",
      "-0.024518       1\n",
      " 0.002735       1\n",
      " 0.021788       1\n",
      "-0.024522       1\n",
      " 0.019877       1\n",
      "Name: count, Length: 624, dtype: int64\n"
     ]
    }
   ],
   "source": [
    "for column in aed_to_usd_df.columns:\n",
    "    unique_values = aed_to_usd_df[column].value_counts()\n",
    "    print(\"{:<30}{}\".format(column, unique_values))"
   ]
  },
  {
   "cell_type": "code",
   "execution_count": 11,
   "metadata": {},
   "outputs": [
    {
     "data": {
      "text/plain": [
       "0"
      ]
     },
     "execution_count": 11,
     "metadata": {},
     "output_type": "execute_result"
    }
   ],
   "source": [
    "aed_to_usd_df.duplicated().sum()"
   ]
  },
  {
   "cell_type": "code",
   "execution_count": 12,
   "metadata": {},
   "outputs": [
    {
     "data": {
      "text/plain": [
       "Unnamed: 0    0\n",
       "Open          0\n",
       "High          0\n",
       "Low           0\n",
       "Close         0\n",
       "Adj Close     0\n",
       "Volume        0\n",
       "Date          0\n",
       "Return        1\n",
       "dtype: int64"
      ]
     },
     "execution_count": 12,
     "metadata": {},
     "output_type": "execute_result"
    }
   ],
   "source": [
    "aed_to_usd_df.isnull().sum()"
   ]
  },
  {
   "cell_type": "code",
   "execution_count": 13,
   "metadata": {},
   "outputs": [
    {
     "data": {
      "text/plain": [
       "array([[<Axes: title={'center': 'Unnamed: 0'}>,\n",
       "        <Axes: title={'center': 'Open'}>,\n",
       "        <Axes: title={'center': 'High'}>],\n",
       "       [<Axes: title={'center': 'Low'}>,\n",
       "        <Axes: title={'center': 'Close'}>,\n",
       "        <Axes: title={'center': 'Adj Close'}>],\n",
       "       [<Axes: title={'center': 'Volume'}>,\n",
       "        <Axes: title={'center': 'Return'}>, <Axes: >]], dtype=object)"
      ]
     },
     "execution_count": 13,
     "metadata": {},
     "output_type": "execute_result"
    },
    {
     "data": {
      "image/png": "[encoded data removed]",
      "text/plain": [
       "<Figure size 1000x1000 with 9 Axes>"
      ]
     },
     "metadata": {},
     "output_type": "display_data"
    }
   ],
   "source": [
    "aed_to_usd_df.hist(figsize=(10, 10))"
   ]
  },
  {
   "cell_type": "markdown",
   "metadata": {},
   "source": [
    "## Data Cleaning"
   ]
  },
  {
   "cell_type": "code",
   "execution_count": 14,
   "metadata": {},
   "outputs": [],
   "source": [
    "cols_to_drop = [col for col in aed_to_usd_df.columns if aed_to_usd_df[col].nunique() == 1]\n",
    "aed_to_usd_df = aed_to_usd_df.drop(columns=cols_to_drop)"
   ]
  },
  {
   "cell_type": "code",
   "execution_count": 15,
   "metadata": {},
   "outputs": [],
   "source": [
    "aed_to_usd_df.drop(columns=['Unnamed: 0'], inplace = True)"
   ]
  },
  {
   "cell_type": "code",
   "execution_count": 20,
   "metadata": {
    "vscode": {
     "languageId": "ruby"
    }
   },
   "outputs": [
    {
     "data": {
      "text/html": [
       "<div>\n",
       "<style scoped>\n",
       "    .dataframe tbody tr th:only-of-type {\n",
       "        vertical-align: middle;\n",
       "    }\n",
       "\n",
       "    .dataframe tbody tr th {\n",
       "        vertical-align: top;\n",
       "    }\n",
       "\n",
       "    .dataframe thead th {\n",
       "        text-align: right;\n",
       "    }\n",
       "</style>\n",
       "<table border=\"1\" class=\"dataframe\">\n",
       "  <thead>\n",
       "    <tr style=\"text-align: right;\">\n",
       "      <th></th>\n",
       "      <th>Open</th>\n",
       "      <th>High</th>\n",
       "      <th>Low</th>\n",
       "      <th>Close</th>\n",
       "      <th>Adj Close</th>\n",
       "      <th>Return</th>\n",
       "    </tr>\n",
       "    <tr>\n",
       "      <th>Year</th>\n",
       "      <th></th>\n",
       "      <th></th>\n",
       "      <th></th>\n",
       "      <th></th>\n",
       "      <th></th>\n",
       "      <th></th>\n",
       "    </tr>\n",
       "  </thead>\n",
       "  <tbody>\n",
       "    <tr>\n",
       "      <th>2003</th>\n",
       "      <td>0.272344</td>\n",
       "      <td>0.272357</td>\n",
       "      <td>0.272335</td>\n",
       "      <td>0.272354</td>\n",
       "      <td>0.272354</td>\n",
       "      <td>1.586037e-07</td>\n",
       "    </tr>\n",
       "    <tr>\n",
       "      <th>2004</th>\n",
       "      <td>0.272335</td>\n",
       "      <td>0.272367</td>\n",
       "      <td>0.272314</td>\n",
       "      <td>0.272353</td>\n",
       "      <td>0.272353</td>\n",
       "      <td>3.237452e-07</td>\n",
       "    </tr>\n",
       "    <tr>\n",
       "      <th>2005</th>\n",
       "      <td>0.272300</td>\n",
       "      <td>0.272375</td>\n",
       "      <td>0.272270</td>\n",
       "      <td>0.272345</td>\n",
       "      <td>0.272345</td>\n",
       "      <td>-1.334754e-04</td>\n",
       "    </tr>\n",
       "    <tr>\n",
       "      <th>2006</th>\n",
       "      <td>0.272337</td>\n",
       "      <td>0.272377</td>\n",
       "      <td>0.272287</td>\n",
       "      <td>0.272340</td>\n",
       "      <td>0.272340</td>\n",
       "      <td>9.879563e-05</td>\n",
       "    </tr>\n",
       "    <tr>\n",
       "      <th>2007</th>\n",
       "      <td>0.272409</td>\n",
       "      <td>0.272444</td>\n",
       "      <td>0.272319</td>\n",
       "      <td>0.272388</td>\n",
       "      <td>0.272388</td>\n",
       "      <td>-1.769392e-05</td>\n",
       "    </tr>\n",
       "    <tr>\n",
       "      <th>2008</th>\n",
       "      <td>0.272377</td>\n",
       "      <td>0.272427</td>\n",
       "      <td>0.272296</td>\n",
       "      <td>0.272371</td>\n",
       "      <td>0.272371</td>\n",
       "      <td>1.073926e-04</td>\n",
       "    </tr>\n",
       "    <tr>\n",
       "      <th>2009</th>\n",
       "      <td>0.272388</td>\n",
       "      <td>0.272440</td>\n",
       "      <td>0.272299</td>\n",
       "      <td>0.272376</td>\n",
       "      <td>0.272376</td>\n",
       "      <td>-1.689634e-04</td>\n",
       "    </tr>\n",
       "    <tr>\n",
       "      <th>2010</th>\n",
       "      <td>0.272333</td>\n",
       "      <td>0.272449</td>\n",
       "      <td>0.272277</td>\n",
       "      <td>0.272293</td>\n",
       "      <td>0.272293</td>\n",
       "      <td>2.534800e-06</td>\n",
       "    </tr>\n",
       "    <tr>\n",
       "      <th>2011</th>\n",
       "      <td>0.272330</td>\n",
       "      <td>0.272336</td>\n",
       "      <td>0.272277</td>\n",
       "      <td>0.272282</td>\n",
       "      <td>0.272282</td>\n",
       "      <td>4.397289e-07</td>\n",
       "    </tr>\n",
       "    <tr>\n",
       "      <th>2012</th>\n",
       "      <td>0.272325</td>\n",
       "      <td>0.272342</td>\n",
       "      <td>0.272271</td>\n",
       "      <td>0.272322</td>\n",
       "      <td>0.272322</td>\n",
       "      <td>8.377003e-05</td>\n",
       "    </tr>\n",
       "    <tr>\n",
       "      <th>2013</th>\n",
       "      <td>0.272327</td>\n",
       "      <td>0.272342</td>\n",
       "      <td>0.272267</td>\n",
       "      <td>0.272327</td>\n",
       "      <td>0.272327</td>\n",
       "      <td>1.073793e-05</td>\n",
       "    </tr>\n",
       "    <tr>\n",
       "      <th>2014</th>\n",
       "      <td>0.272328</td>\n",
       "      <td>0.272358</td>\n",
       "      <td>0.272272</td>\n",
       "      <td>0.272323</td>\n",
       "      <td>0.272323</td>\n",
       "      <td>3.336987e-07</td>\n",
       "    </tr>\n",
       "    <tr>\n",
       "      <th>2015</th>\n",
       "      <td>0.272330</td>\n",
       "      <td>0.272342</td>\n",
       "      <td>0.272271</td>\n",
       "      <td>0.272325</td>\n",
       "      <td>0.272325</td>\n",
       "      <td>5.567504e-07</td>\n",
       "    </tr>\n",
       "    <tr>\n",
       "      <th>2016</th>\n",
       "      <td>0.272328</td>\n",
       "      <td>0.272351</td>\n",
       "      <td>0.272272</td>\n",
       "      <td>0.272325</td>\n",
       "      <td>0.272325</td>\n",
       "      <td>1.084507e-05</td>\n",
       "    </tr>\n",
       "    <tr>\n",
       "      <th>2017</th>\n",
       "      <td>0.272330</td>\n",
       "      <td>0.272361</td>\n",
       "      <td>0.272270</td>\n",
       "      <td>0.272331</td>\n",
       "      <td>0.272331</td>\n",
       "      <td>1.074449e-05</td>\n",
       "    </tr>\n",
       "    <tr>\n",
       "      <th>2018</th>\n",
       "      <td>0.272317</td>\n",
       "      <td>0.272355</td>\n",
       "      <td>0.272271</td>\n",
       "      <td>0.272313</td>\n",
       "      <td>0.272313</td>\n",
       "      <td>-6.224200e-05</td>\n",
       "    </tr>\n",
       "    <tr>\n",
       "      <th>2019</th>\n",
       "      <td>0.272315</td>\n",
       "      <td>0.272333</td>\n",
       "      <td>0.272268</td>\n",
       "      <td>0.272310</td>\n",
       "      <td>0.272310</td>\n",
       "      <td>2.180852e-05</td>\n",
       "    </tr>\n",
       "    <tr>\n",
       "      <th>2020</th>\n",
       "      <td>0.272312</td>\n",
       "      <td>0.272358</td>\n",
       "      <td>0.272267</td>\n",
       "      <td>0.272313</td>\n",
       "      <td>0.272313</td>\n",
       "      <td>1.132451e-06</td>\n",
       "    </tr>\n",
       "    <tr>\n",
       "      <th>2021</th>\n",
       "      <td>0.272309</td>\n",
       "      <td>0.272335</td>\n",
       "      <td>0.272268</td>\n",
       "      <td>0.272310</td>\n",
       "      <td>0.272310</td>\n",
       "      <td>1.078771e-05</td>\n",
       "    </tr>\n",
       "    <tr>\n",
       "      <th>2022</th>\n",
       "      <td>0.272315</td>\n",
       "      <td>0.272339</td>\n",
       "      <td>0.272268</td>\n",
       "      <td>0.272315</td>\n",
       "      <td>0.272315</td>\n",
       "      <td>-3.087209e-05</td>\n",
       "    </tr>\n",
       "    <tr>\n",
       "      <th>2023</th>\n",
       "      <td>0.272333</td>\n",
       "      <td>0.272352</td>\n",
       "      <td>0.272285</td>\n",
       "      <td>0.272333</td>\n",
       "      <td>0.272333</td>\n",
       "      <td>-2.042788e-05</td>\n",
       "    </tr>\n",
       "    <tr>\n",
       "      <th>2024</th>\n",
       "      <td>0.272326</td>\n",
       "      <td>0.272351</td>\n",
       "      <td>0.272273</td>\n",
       "      <td>0.272326</td>\n",
       "      <td>0.272326</td>\n",
       "      <td>-1.064586e-05</td>\n",
       "    </tr>\n",
       "  </tbody>\n",
       "</table>\n",
       "</div>"
      ],
      "text/plain": [
       "          Open      High       Low     Close  Adj Close        Return\n",
       "Year                                                                 \n",
       "2003  0.272344  0.272357  0.272335  0.272354   0.272354  1.586037e-07\n",
       "2004  0.272335  0.272367  0.272314  0.272353   0.272353  3.237452e-07\n",
       "2005  0.272300  0.272375  0.272270  0.272345   0.272345 -1.334754e-04\n",
       "2006  0.272337  0.272377  0.272287  0.272340   0.272340  9.879563e-05\n",
       "2007  0.272409  0.272444  0.272319  0.272388   0.272388 -1.769392e-05\n",
       "2008  0.272377  0.272427  0.272296  0.272371   0.272371  1.073926e-04\n",
       "2009  0.272388  0.272440  0.272299  0.272376   0.272376 -1.689634e-04\n",
       "2010  0.272333  0.272449  0.272277  0.272293   0.272293  2.534800e-06\n",
       "2011  0.272330  0.272336  0.272277  0.272282   0.272282  4.397289e-07\n",
       "2012  0.272325  0.272342  0.272271  0.272322   0.272322  8.377003e-05\n",
       "2013  0.272327  0.272342  0.272267  0.272327   0.272327  1.073793e-05\n",
       "2014  0.272328  0.272358  0.272272  0.272323   0.272323  3.336987e-07\n",
       "2015  0.272330  0.272342  0.272271  0.272325   0.272325  5.567504e-07\n",
       "2016  0.272328  0.272351  0.272272  0.272325   0.272325  1.084507e-05\n",
       "2017  0.272330  0.272361  0.272270  0.272331   0.272331  1.074449e-05\n",
       "2018  0.272317  0.272355  0.272271  0.272313   0.272313 -6.224200e-05\n",
       "2019  0.272315  0.272333  0.272268  0.272310   0.272310  2.180852e-05\n",
       "2020  0.272312  0.272358  0.272267  0.272313   0.272313  1.132451e-06\n",
       "2021  0.272309  0.272335  0.272268  0.272310   0.272310  1.078771e-05\n",
       "2022  0.272315  0.272339  0.272268  0.272315   0.272315 -3.087209e-05\n",
       "2023  0.272333  0.272352  0.272285  0.272333   0.272333 -2.042788e-05\n",
       "2024  0.272326  0.272351  0.272273  0.272326   0.272326 -1.064586e-05"
      ]
     },
     "execution_count": 20,
     "metadata": {},
     "output_type": "execute_result"
    }
   ],
   "source": [
    "# Ensure the date column is in datetime format\n",
    "aed_to_usd_df['Date'] = pd.to_datetime(aed_to_usd_df['Date'])\n",
    "\n",
    "# Extract the year from the date column\n",
    "aed_to_usd_df['Year'] = aed_to_usd_df['Date'].dt.year\n",
    "\n",
    "aed_to_usd_df.drop('Date', axis=1, inplace=True)\n",
    "\n",
    "# Group by the year\n",
    "aed_to_usd_grouped_by_year = aed_to_usd_df.groupby('Year').mean()"
   ]
  },
  {
   "cell_type": "code",
   "execution_count": 21,
   "metadata": {
    "vscode": {
     "languageId": "ruby"
    }
   },
   "outputs": [],
   "source": [
    "aed_to_usd_grouped_by_year.to_csv('Cleaned Datasets\\\\Currency Strength\\\\aed_to_usd_annual.csv', index=False)"
   ]
  },
  {
   "cell_type": "code",
   "execution_count": null,
   "metadata": {
    "vscode": {
     "languageId": "ruby"
    }
   },
   "outputs": [],
   "source": []
  },
  {
   "cell_type": "code",
   "execution_count": 17,
   "metadata": {},
   "outputs": [],
   "source": [
    "# aed_to_usd_df.to_csv('Cleaned Datasets\\\\Currency Strength\\\\aed_to_usd.csv', index=False)"
   ]
  },
  {
   "cell_type": "markdown",
   "metadata": {},
   "source": [
    "# Pumping data into Mongodb"
   ]
  },
  {
   "cell_type": "code",
   "execution_count": 18,
   "metadata": {},
   "outputs": [],
   "source": [
    "# from pymongo import MongoClient\n",
    "# from dotenv import load_dotenv\n",
    "# import os\n",
    "\n",
    "# # Connect to MongoDB\n",
    "# load_dotenv()\n",
    "\n",
    "# client = MongoClient(os.environ['MONGODB_URI_1'])  # Uses the connection string from your .env file\n",
    "# db = client['tourism_db']\n",
    "    \n",
    "# # Convert DataFrame to dictionary\n",
    "# aed_to_usd_df = aed_to_usd_df.to_dict('records')\n",
    "\n",
    "# # Insert into MongoDB collections\n",
    "# db['aed_to_usd_df'].insert_many(aed_to_usd_df)\n",
    "\n",
    "# print(\"Data pumped into MongoDB successfully!\")"
   ]
  }
 ],
 "metadata": {
  "kernelspec": {
   "display_name": "Python 3",
   "language": "python",
   "name": "python3"
  },
  "language_info": {
   "codemirror_mode": {
    "name": "ipython",
    "version": 3
   },
   "file_extension": ".py",
   "mimetype": "text/x-python",
   "name": "python",
   "nbconvert_exporter": "python",
   "pygments_lexer": "ipython3",
   "version": "3.12.4"
  }
 },
 "nbformat": 4,
 "nbformat_minor": 2
}
