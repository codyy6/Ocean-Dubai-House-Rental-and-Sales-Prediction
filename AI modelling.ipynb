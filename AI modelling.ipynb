{
 "cells": [
  {
   "cell_type": "markdown",
   "metadata": {},
   "source": [
    "Develop two models using only the real estate transaction data:\n",
    "a. One to estimate property sale prices.\n",
    "b. Another to estimate property rental prices. (15 points)\n",
    "\n",
    "Create two additional models incorporating both real estate data and supplementary datasets:\n",
    "a. One to estimate property sale prices.\n",
    "b. Another to estimate property rental prices. (15 points)\n",
    "\n",
    "Evaluate the performance of all four models using metrics such as RMSE, MSE, and R². Analyze whether the inclusion of additional data enhances model accuracy. (10 points)\n",
    "\n",
    "You should at least train your model on these 9 features but you are free to add more:\n",
    "Property Type or/and Property Sub Type\n",
    "Number of rooms/bedrooms\n",
    "Property Size (sq.m)\n",
    "Area/Neighborhood\n",
    "Nearest Metro\n",
    "Nearest Mall\n",
    "Nearest Landmark\n",
    "Usage (commercial/residential)\n",
    "Average prices the previous month/week (for the same kind of property)"
   ]
  }
 ],
 "metadata": {
  "language_info": {
   "name": "python"
  }
 },
 "nbformat": 4,
 "nbformat_minor": 2
}
