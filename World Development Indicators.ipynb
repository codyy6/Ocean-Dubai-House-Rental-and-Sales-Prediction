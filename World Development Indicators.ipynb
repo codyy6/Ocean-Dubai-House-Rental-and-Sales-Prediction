{
 "cells": [
  {
   "cell_type": "code",
   "execution_count": null,
   "metadata": {},
   "outputs": [],
   "source": [
    "import pandas as pd\n",
    "import numpy as np\n",
    "import seaborn as sns\n",
    "from scipy import stats\n",
    "\n",
    "import matplotlib.pyplot as plt"
   ]
  },
  {
   "cell_type": "code",
   "execution_count": null,
   "metadata": {},
   "outputs": [],
   "source": [
    "world_development_indicator_df = pd.read_csv('Datasets\\\\World Development Indicators\\\\World_Development_Indicator.csv', skiprows=4)\n",
    "Metadata_World_Development_Indicator = pd.read_csv('Datasets\\\\World Development Indicators\\\\Metadata_World_Development_Indicator.csv')"
   ]
  }
 ],
 "metadata": {
  "language_info": {
   "name": "python"
  }
 },
 "nbformat": 4,
 "nbformat_minor": 2
}
