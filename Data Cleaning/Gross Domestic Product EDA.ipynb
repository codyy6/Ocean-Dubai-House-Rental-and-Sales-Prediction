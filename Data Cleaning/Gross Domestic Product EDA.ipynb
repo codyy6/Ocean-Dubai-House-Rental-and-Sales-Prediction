{
 "cells": [
  {
   "cell_type": "code",
   "execution_count": 1,
   "metadata": {},
   "outputs": [],
   "source": [
    "import pandas as pd\n",
    "import numpy as np\n",
    "import seaborn as sns\n",
    "from scipy import stats\n",
    "\n",
    "import matplotlib.pyplot as plt"
   ]
  },
  {
   "cell_type": "code",
   "execution_count": 2,
   "metadata": {},
   "outputs": [],
   "source": [
    "gdp_quarterly_constant_prices_df = pd.read_csv('../Datasets\\\\Gross Domestic Product\\\\GDP_Quarterly_Constant_Prices.csv')\n",
    "gdp_quarterly_current_prices_df = pd.read_csv('../Datasets\\\\Gross Domestic Product\\\\GDP_Quarterly_Current_Prices.csv')"
   ]
  },
  {
   "cell_type": "markdown",
   "metadata": {},
   "source": [
    "# GDP Quarterly Constant Prices"
   ]
  },
  {
   "cell_type": "markdown",
   "metadata": {},
   "source": [
    "## Data Understanding"
   ]
  },
  {
   "cell_type": "code",
   "execution_count": 3,
   "metadata": {},
   "outputs": [
    {
     "data": {
      "text/html": [
       "<div>\n",
       "<style scoped>\n",
       "    .dataframe tbody tr th:only-of-type {\n",
       "        vertical-align: middle;\n",
       "    }\n",
       "\n",
       "    .dataframe tbody tr th {\n",
       "        vertical-align: top;\n",
       "    }\n",
       "\n",
       "    .dataframe thead th {\n",
       "        text-align: right;\n",
       "    }\n",
       "</style>\n",
       "<table border=\"1\" class=\"dataframe\">\n",
       "  <thead>\n",
       "    <tr style=\"text-align: right;\">\n",
       "      <th></th>\n",
       "      <th>DATAFLOW</th>\n",
       "      <th>REF_AREA</th>\n",
       "      <th>FREQ</th>\n",
       "      <th>UNIT_MEASURE</th>\n",
       "      <th>SOURCE_DETAIL</th>\n",
       "      <th>MEASURE</th>\n",
       "      <th>QUARTER</th>\n",
       "      <th>QGDP_SYS</th>\n",
       "      <th>QGDP_UNIT</th>\n",
       "      <th>TIME_PERIOD</th>\n",
       "      <th>OBS_VALUE</th>\n",
       "      <th>OBS_STATUS</th>\n",
       "      <th>UNIT_MULT</th>\n",
       "      <th>OBS_COMMENT</th>\n",
       "      <th>DECIMALS</th>\n",
       "    </tr>\n",
       "  </thead>\n",
       "  <tbody>\n",
       "    <tr>\n",
       "      <th>0</th>\n",
       "      <td>FCSA:DF_QGDP_CON(1.8.0)</td>\n",
       "      <td>AE</td>\n",
       "      <td>Q</td>\n",
       "      <td>MILAED</td>\n",
       "      <td>FCSC</td>\n",
       "      <td>ELE</td>\n",
       "      <td>Q1</td>\n",
       "      <td>CON</td>\n",
       "      <td>VAL</td>\n",
       "      <td>2012</td>\n",
       "      <td>6029.460989</td>\n",
       "      <td>NaN</td>\n",
       "      <td>NaN</td>\n",
       "      <td>NaN</td>\n",
       "      <td>0</td>\n",
       "    </tr>\n",
       "    <tr>\n",
       "      <th>1</th>\n",
       "      <td>FCSA:DF_QGDP_CON(1.8.0)</td>\n",
       "      <td>AE</td>\n",
       "      <td>Q</td>\n",
       "      <td>MILAED</td>\n",
       "      <td>FCSC</td>\n",
       "      <td>ELE</td>\n",
       "      <td>Q1</td>\n",
       "      <td>CON</td>\n",
       "      <td>VAL</td>\n",
       "      <td>2013</td>\n",
       "      <td>6516.431786</td>\n",
       "      <td>NaN</td>\n",
       "      <td>NaN</td>\n",
       "      <td>NaN</td>\n",
       "      <td>0</td>\n",
       "    </tr>\n",
       "    <tr>\n",
       "      <th>2</th>\n",
       "      <td>FCSA:DF_QGDP_CON(1.8.0)</td>\n",
       "      <td>AE</td>\n",
       "      <td>Q</td>\n",
       "      <td>MILAED</td>\n",
       "      <td>FCSC</td>\n",
       "      <td>ELE</td>\n",
       "      <td>Q1</td>\n",
       "      <td>CON</td>\n",
       "      <td>VAL</td>\n",
       "      <td>2014</td>\n",
       "      <td>7282.519220</td>\n",
       "      <td>NaN</td>\n",
       "      <td>NaN</td>\n",
       "      <td>NaN</td>\n",
       "      <td>0</td>\n",
       "    </tr>\n",
       "    <tr>\n",
       "      <th>3</th>\n",
       "      <td>FCSA:DF_QGDP_CON(1.8.0)</td>\n",
       "      <td>AE</td>\n",
       "      <td>Q</td>\n",
       "      <td>MILAED</td>\n",
       "      <td>FCSC</td>\n",
       "      <td>ELE</td>\n",
       "      <td>Q1</td>\n",
       "      <td>CON</td>\n",
       "      <td>VAL</td>\n",
       "      <td>2015</td>\n",
       "      <td>5581.622819</td>\n",
       "      <td>NaN</td>\n",
       "      <td>NaN</td>\n",
       "      <td>NaN</td>\n",
       "      <td>0</td>\n",
       "    </tr>\n",
       "    <tr>\n",
       "      <th>4</th>\n",
       "      <td>FCSA:DF_QGDP_CON(1.8.0)</td>\n",
       "      <td>AE</td>\n",
       "      <td>Q</td>\n",
       "      <td>MILAED</td>\n",
       "      <td>FCSC</td>\n",
       "      <td>ELE</td>\n",
       "      <td>Q1</td>\n",
       "      <td>CON</td>\n",
       "      <td>VAL</td>\n",
       "      <td>2016</td>\n",
       "      <td>6507.318473</td>\n",
       "      <td>NaN</td>\n",
       "      <td>NaN</td>\n",
       "      <td>NaN</td>\n",
       "      <td>0</td>\n",
       "    </tr>\n",
       "  </tbody>\n",
       "</table>\n",
       "</div>"
      ],
      "text/plain": [
       "                  DATAFLOW REF_AREA FREQ UNIT_MEASURE SOURCE_DETAIL MEASURE  \\\n",
       "0  FCSA:DF_QGDP_CON(1.8.0)       AE    Q       MILAED          FCSC     ELE   \n",
       "1  FCSA:DF_QGDP_CON(1.8.0)       AE    Q       MILAED          FCSC     ELE   \n",
       "2  FCSA:DF_QGDP_CON(1.8.0)       AE    Q       MILAED          FCSC     ELE   \n",
       "3  FCSA:DF_QGDP_CON(1.8.0)       AE    Q       MILAED          FCSC     ELE   \n",
       "4  FCSA:DF_QGDP_CON(1.8.0)       AE    Q       MILAED          FCSC     ELE   \n",
       "\n",
       "  QUARTER QGDP_SYS QGDP_UNIT  TIME_PERIOD    OBS_VALUE  OBS_STATUS  UNIT_MULT  \\\n",
       "0      Q1      CON       VAL         2012  6029.460989         NaN        NaN   \n",
       "1      Q1      CON       VAL         2013  6516.431786         NaN        NaN   \n",
       "2      Q1      CON       VAL         2014  7282.519220         NaN        NaN   \n",
       "3      Q1      CON       VAL         2015  5581.622819         NaN        NaN   \n",
       "4      Q1      CON       VAL         2016  6507.318473         NaN        NaN   \n",
       "\n",
       "   OBS_COMMENT  DECIMALS  \n",
       "0          NaN         0  \n",
       "1          NaN         0  \n",
       "2          NaN         0  \n",
       "3          NaN         0  \n",
       "4          NaN         0  "
      ]
     },
     "execution_count": 3,
     "metadata": {},
     "output_type": "execute_result"
    }
   ],
   "source": [
    "gdp_quarterly_constant_prices_df.head()"
   ]
  },
  {
   "cell_type": "code",
   "execution_count": 4,
   "metadata": {},
   "outputs": [
    {
     "name": "stdout",
     "output_type": "stream",
     "text": [
      "<class 'pandas.core.frame.DataFrame'>\n",
      "RangeIndex: 1920 entries, 0 to 1919\n",
      "Data columns (total 15 columns):\n",
      " #   Column         Non-Null Count  Dtype  \n",
      "---  ------         --------------  -----  \n",
      " 0   DATAFLOW       1920 non-null   object \n",
      " 1   REF_AREA       1920 non-null   object \n",
      " 2   FREQ           1920 non-null   object \n",
      " 3   UNIT_MEASURE   1920 non-null   object \n",
      " 4   SOURCE_DETAIL  1920 non-null   object \n",
      " 5   MEASURE        1920 non-null   object \n",
      " 6   QUARTER        1920 non-null   object \n",
      " 7   QGDP_SYS       1920 non-null   object \n",
      " 8   QGDP_UNIT      1920 non-null   object \n",
      " 9   TIME_PERIOD    1920 non-null   int64  \n",
      " 10  OBS_VALUE      1920 non-null   float64\n",
      " 11  OBS_STATUS     0 non-null      float64\n",
      " 12  UNIT_MULT      0 non-null      float64\n",
      " 13  OBS_COMMENT    0 non-null      float64\n",
      " 14  DECIMALS       1920 non-null   int64  \n",
      "dtypes: float64(4), int64(2), object(9)\n",
      "memory usage: 225.1+ KB\n"
     ]
    }
   ],
   "source": [
    "gdp_quarterly_constant_prices_df.info()"
   ]
  },
  {
   "cell_type": "code",
   "execution_count": 5,
   "metadata": {},
   "outputs": [
    {
     "name": "stdout",
     "output_type": "stream",
     "text": [
      "DATAFLOW                      1\n",
      "REF_AREA                      1\n",
      "FREQ                          1\n",
      "UNIT_MEASURE                  2\n",
      "SOURCE_DETAIL                 1\n",
      "MEASURE                       20\n",
      "QUARTER                       4\n",
      "QGDP_SYS                      1\n",
      "QGDP_UNIT                     2\n",
      "TIME_PERIOD                   13\n",
      "OBS_VALUE                     1920\n",
      "OBS_STATUS                    0\n",
      "UNIT_MULT                     0\n",
      "OBS_COMMENT                   0\n",
      "DECIMALS                      2\n"
     ]
    }
   ],
   "source": [
    "for column in gdp_quarterly_constant_prices_df.columns:\n",
    "    unique_values = gdp_quarterly_constant_prices_df[column].nunique()\n",
    "    print(\"{:<30}{}\".format(column, unique_values))"
   ]
  },
  {
   "cell_type": "code",
   "execution_count": 6,
   "metadata": {},
   "outputs": [
    {
     "name": "stdout",
     "output_type": "stream",
     "text": [
      "DATAFLOW                      DATAFLOW\n",
      "FCSA:DF_QGDP_CON(1.8.0)    1920\n",
      "Name: count, dtype: int64\n",
      "REF_AREA                      REF_AREA\n",
      "AE    1920\n",
      "Name: count, dtype: int64\n",
      "FREQ                          FREQ\n",
      "Q    1920\n",
      "Name: count, dtype: int64\n",
      "UNIT_MEASURE                  UNIT_MEASURE\n",
      "MILAED     1000\n",
      "PERCENT     920\n",
      "Name: count, dtype: int64\n",
      "SOURCE_DETAIL                 SOURCE_DETAIL\n",
      "FCSC    1920\n",
      "Name: count, dtype: int64\n",
      "MEASURE                       MEASURE\n",
      "ELE        96\n",
      "CON        96\n",
      "INF        96\n",
      "MIN        96\n",
      "TOT_NO     96\n",
      "TOT_GDP    96\n",
      "ACT        96\n",
      "FIN        96\n",
      "NFC        96\n",
      "ACC        96\n",
      "WHO        96\n",
      "REA        96\n",
      "ART        96\n",
      "HUM        96\n",
      "EDU        96\n",
      "TRA        96\n",
      "AGR        96\n",
      "PUB        96\n",
      "PRO        96\n",
      "MAN        96\n",
      "Name: count, dtype: int64\n",
      "QUARTER                       QUARTER\n",
      "Q1    500\n",
      "Q2    500\n",
      "Q3    460\n",
      "Q4    460\n",
      "Name: count, dtype: int64\n",
      "QGDP_SYS                      QGDP_SYS\n",
      "CON    1920\n",
      "Name: count, dtype: int64\n",
      "QGDP_UNIT                     QGDP_UNIT\n",
      "VAL          1000\n",
      "GWTH_RATE     920\n",
      "Name: count, dtype: int64\n",
      "TIME_PERIOD                   TIME_PERIOD\n",
      "2013    160\n",
      "2014    160\n",
      "2015    160\n",
      "2016    160\n",
      "2017    160\n",
      "2018    160\n",
      "2019    160\n",
      "2020    160\n",
      "2021    160\n",
      "2022    160\n",
      "2023    160\n",
      "2012     80\n",
      "2024     80\n",
      "Name: count, dtype: int64\n",
      "OBS_VALUE                     OBS_VALUE\n",
      "6029.460989     1\n",
      "6516.431786     1\n",
      "3001.336642     1\n",
      "2668.062987     1\n",
      "2553.369937     1\n",
      "               ..\n",
      "42358.524610    1\n",
      "39814.151920    1\n",
      "39342.726340    1\n",
      "35117.619840    1\n",
      "8.430322        1\n",
      "Name: count, Length: 1920, dtype: int64\n",
      "OBS_STATUS                    Series([], Name: count, dtype: int64)\n",
      "UNIT_MULT                     Series([], Name: count, dtype: int64)\n",
      "OBS_COMMENT                   Series([], Name: count, dtype: int64)\n",
      "DECIMALS                      DECIMALS\n",
      "0    1000\n",
      "1     920\n",
      "Name: count, dtype: int64\n"
     ]
    }
   ],
   "source": [
    "for column in gdp_quarterly_constant_prices_df.columns:\n",
    "    unique_values = gdp_quarterly_constant_prices_df[column].value_counts()\n",
    "    print(\"{:<30}{}\".format(column, unique_values))"
   ]
  },
  {
   "cell_type": "code",
   "execution_count": 7,
   "metadata": {},
   "outputs": [
    {
     "data": {
      "text/plain": [
       "0"
      ]
     },
     "execution_count": 7,
     "metadata": {},
     "output_type": "execute_result"
    }
   ],
   "source": [
    "gdp_quarterly_constant_prices_df.duplicated().sum()"
   ]
  },
  {
   "cell_type": "code",
   "execution_count": 8,
   "metadata": {},
   "outputs": [
    {
     "data": {
      "text/plain": [
       "DATAFLOW            0\n",
       "REF_AREA            0\n",
       "FREQ                0\n",
       "UNIT_MEASURE        0\n",
       "SOURCE_DETAIL       0\n",
       "MEASURE             0\n",
       "QUARTER             0\n",
       "QGDP_SYS            0\n",
       "QGDP_UNIT           0\n",
       "TIME_PERIOD         0\n",
       "OBS_VALUE           0\n",
       "OBS_STATUS       1920\n",
       "UNIT_MULT        1920\n",
       "OBS_COMMENT      1920\n",
       "DECIMALS            0\n",
       "dtype: int64"
      ]
     },
     "execution_count": 8,
     "metadata": {},
     "output_type": "execute_result"
    }
   ],
   "source": [
    "gdp_quarterly_constant_prices_df.isnull().sum()"
   ]
  },
  {
   "cell_type": "code",
   "execution_count": 9,
   "metadata": {},
   "outputs": [
    {
     "data": {
      "text/plain": [
       "array([[<Axes: title={'center': 'TIME_PERIOD'}>,\n",
       "        <Axes: title={'center': 'OBS_VALUE'}>],\n",
       "       [<Axes: title={'center': 'OBS_STATUS'}>,\n",
       "        <Axes: title={'center': 'UNIT_MULT'}>],\n",
       "       [<Axes: title={'center': 'OBS_COMMENT'}>,\n",
       "        <Axes: title={'center': 'DECIMALS'}>]], dtype=object)"
      ]
     },
     "execution_count": 9,
     "metadata": {},
     "output_type": "execute_result"
    },
    {
     "data": {
      "image/png": "[encoded data removed]",
      "text/plain": [
       "<Figure size 1000x1000 with 6 Axes>"
      ]
     },
     "metadata": {},
     "output_type": "display_data"
    }
   ],
   "source": [
    "gdp_quarterly_constant_prices_df.hist(figsize=(10, 10))"
   ]
  },
  {
   "cell_type": "markdown",
   "metadata": {},
   "source": [
    "## Data Cleaning"
   ]
  },
  {
   "cell_type": "code",
   "execution_count": 10,
   "metadata": {},
   "outputs": [],
   "source": [
    "gdp_quarterly_constant_prices_df.drop(columns=['OBS_STATUS', 'UNIT_MULT','OBS_COMMENT'], inplace = True)"
   ]
  },
  {
   "cell_type": "code",
   "execution_count": 11,
   "metadata": {},
   "outputs": [],
   "source": [
    "cols_to_drop = [col for col in gdp_quarterly_constant_prices_df.columns if gdp_quarterly_constant_prices_df[col].nunique() == 1]\n",
    "gdp_quarterly_constant_prices_df = gdp_quarterly_constant_prices_df.drop(columns=cols_to_drop)"
   ]
  },
  {
   "cell_type": "code",
   "execution_count": 12,
   "metadata": {},
   "outputs": [],
   "source": [
    "gdp_quarterly_constant_prices_df.rename(columns={'UNIT_MEASURE': 'Unit of Measure', 'MEASURE': 'Measure','QUARTER': 'Quarter','QGDP_UNIT':'GDP Unit','TIME_PERIOD': 'Time Period', 'OBS_VALUE': 'Value'}, inplace=True)"
   ]
  },
  {
   "cell_type": "code",
   "execution_count": 13,
   "metadata": {},
   "outputs": [],
   "source": [
    "gdp_quarterly_constant_prices_df['Unit of Measure'] = gdp_quarterly_constant_prices_df['Unit of Measure'].replace({\n",
    "    'MILAED': 'AED Million',\n",
    "    'PERCENT': 'percent'\n",
    "})"
   ]
  },
  {
   "cell_type": "code",
   "execution_count": 14,
   "metadata": {},
   "outputs": [],
   "source": [
    "gdp_quarterly_constant_prices_df['Measure'] = gdp_quarterly_constant_prices_df['Measure'].replace({\n",
    "    'NFC': 'Non Financial Corporations',\n",
    "    'AGR': 'Agriculture, Forestry and Fishing',\n",
    "    'MIN' : 'Mining and Quarrying',\n",
    "    'MAN' : 'Manufacturing',\n",
    "    'ELE' : 'Electricity, gas, and Water Supply',\n",
    "    'CON' : 'Construction',\n",
    "    'WHO' : 'Wholesale and Retail Trade',\n",
    "    'TRA' : 'Transportation and Storage',\n",
    "    'ACC' : 'Accomodation and Food Service Activities',\n",
    "    'INF' : 'Information and Communication',\n",
    "    'FIN' : 'Financial and Insurance Activities',\n",
    "    'REA' : 'Real Estate Activities',\n",
    "    'PRO' : 'Professional Activities',\n",
    "    'PUB' : 'Public Administration and Defence',\n",
    "    'EDU' : 'Education',\n",
    "    'HUM' : 'Human Health and Social work Activities',\n",
    "    'ART' : 'Arts and Other Service Activities',\n",
    "    'ACT' : 'Activities of Households as Employers',\n",
    "    'TOT_GDP' : 'Gross Domestic Product',\n",
    "    'TOT_NO' : 'Non-oil Gross Domestic Product'\n",
    "})"
   ]
  },
  {
   "cell_type": "code",
   "execution_count": 15,
   "metadata": {},
   "outputs": [],
   "source": [
    "gdp_quarterly_constant_prices_df['GDP Unit'] = gdp_quarterly_constant_prices_df['GDP Unit'].replace({\n",
    "    'VAL': 'Value',\n",
    "    'GWTH_RATE': 'Annual growth rate',\n",
    "})"
   ]
  },
  {
   "cell_type": "code",
   "execution_count": 31,
   "metadata": {},
   "outputs": [],
   "source": [
    "# gdp_quarterly_constant_prices_df.to_csv('../Cleaned Datasets\\\\Gross Domestic Product\\\\GDP_Quarterly_Constant_Prices.csv', index=False)"
   ]
  },
  {
   "cell_type": "markdown",
   "metadata": {},
   "source": [
    "# GDP Quarterly Constant Prices"
   ]
  },
  {
   "cell_type": "markdown",
   "metadata": {},
   "source": [
    "## Data Understanding"
   ]
  },
  {
   "cell_type": "code",
   "execution_count": 17,
   "metadata": {},
   "outputs": [
    {
     "data": {
      "text/html": [
       "<div>\n",
       "<style scoped>\n",
       "    .dataframe tbody tr th:only-of-type {\n",
       "        vertical-align: middle;\n",
       "    }\n",
       "\n",
       "    .dataframe tbody tr th {\n",
       "        vertical-align: top;\n",
       "    }\n",
       "\n",
       "    .dataframe thead th {\n",
       "        text-align: right;\n",
       "    }\n",
       "</style>\n",
       "<table border=\"1\" class=\"dataframe\">\n",
       "  <thead>\n",
       "    <tr style=\"text-align: right;\">\n",
       "      <th></th>\n",
       "      <th>DATAFLOW</th>\n",
       "      <th>REF_AREA</th>\n",
       "      <th>FREQ</th>\n",
       "      <th>UNIT_MEASURE</th>\n",
       "      <th>SOURCE_DETAIL</th>\n",
       "      <th>MEASURE</th>\n",
       "      <th>QUARTER</th>\n",
       "      <th>QGDP_SYS</th>\n",
       "      <th>QGDP_UNIT</th>\n",
       "      <th>TIME_PERIOD</th>\n",
       "      <th>OBS_VALUE</th>\n",
       "      <th>OBS_STATUS</th>\n",
       "      <th>UNIT_MULT</th>\n",
       "      <th>OBS_COMMENT</th>\n",
       "      <th>DECIMALS</th>\n",
       "    </tr>\n",
       "  </thead>\n",
       "  <tbody>\n",
       "    <tr>\n",
       "      <th>0</th>\n",
       "      <td>FCSA:DF_QGDP_CUR(1.8.0)</td>\n",
       "      <td>AE</td>\n",
       "      <td>Q</td>\n",
       "      <td>PERCENT</td>\n",
       "      <td>FCSC</td>\n",
       "      <td>NFC</td>\n",
       "      <td>Q3</td>\n",
       "      <td>CUR</td>\n",
       "      <td>GWTH_RATE</td>\n",
       "      <td>2013</td>\n",
       "      <td>4.355075</td>\n",
       "      <td>NaN</td>\n",
       "      <td>NaN</td>\n",
       "      <td>NaN</td>\n",
       "      <td>1</td>\n",
       "    </tr>\n",
       "    <tr>\n",
       "      <th>1</th>\n",
       "      <td>FCSA:DF_QGDP_CUR(1.8.0)</td>\n",
       "      <td>AE</td>\n",
       "      <td>Q</td>\n",
       "      <td>PERCENT</td>\n",
       "      <td>FCSC</td>\n",
       "      <td>NFC</td>\n",
       "      <td>Q3</td>\n",
       "      <td>CUR</td>\n",
       "      <td>GWTH_RATE</td>\n",
       "      <td>2014</td>\n",
       "      <td>4.394883</td>\n",
       "      <td>NaN</td>\n",
       "      <td>NaN</td>\n",
       "      <td>NaN</td>\n",
       "      <td>1</td>\n",
       "    </tr>\n",
       "    <tr>\n",
       "      <th>2</th>\n",
       "      <td>FCSA:DF_QGDP_CUR(1.8.0)</td>\n",
       "      <td>AE</td>\n",
       "      <td>Q</td>\n",
       "      <td>PERCENT</td>\n",
       "      <td>FCSC</td>\n",
       "      <td>NFC</td>\n",
       "      <td>Q3</td>\n",
       "      <td>CUR</td>\n",
       "      <td>GWTH_RATE</td>\n",
       "      <td>2015</td>\n",
       "      <td>-15.526115</td>\n",
       "      <td>NaN</td>\n",
       "      <td>NaN</td>\n",
       "      <td>NaN</td>\n",
       "      <td>1</td>\n",
       "    </tr>\n",
       "    <tr>\n",
       "      <th>3</th>\n",
       "      <td>FCSA:DF_QGDP_CUR(1.8.0)</td>\n",
       "      <td>AE</td>\n",
       "      <td>Q</td>\n",
       "      <td>PERCENT</td>\n",
       "      <td>FCSC</td>\n",
       "      <td>NFC</td>\n",
       "      <td>Q3</td>\n",
       "      <td>CUR</td>\n",
       "      <td>GWTH_RATE</td>\n",
       "      <td>2016</td>\n",
       "      <td>-1.059347</td>\n",
       "      <td>NaN</td>\n",
       "      <td>NaN</td>\n",
       "      <td>NaN</td>\n",
       "      <td>1</td>\n",
       "    </tr>\n",
       "    <tr>\n",
       "      <th>4</th>\n",
       "      <td>FCSA:DF_QGDP_CUR(1.8.0)</td>\n",
       "      <td>AE</td>\n",
       "      <td>Q</td>\n",
       "      <td>PERCENT</td>\n",
       "      <td>FCSC</td>\n",
       "      <td>NFC</td>\n",
       "      <td>Q3</td>\n",
       "      <td>CUR</td>\n",
       "      <td>GWTH_RATE</td>\n",
       "      <td>2017</td>\n",
       "      <td>3.219329</td>\n",
       "      <td>NaN</td>\n",
       "      <td>NaN</td>\n",
       "      <td>NaN</td>\n",
       "      <td>1</td>\n",
       "    </tr>\n",
       "  </tbody>\n",
       "</table>\n",
       "</div>"
      ],
      "text/plain": [
       "                  DATAFLOW REF_AREA FREQ UNIT_MEASURE SOURCE_DETAIL MEASURE  \\\n",
       "0  FCSA:DF_QGDP_CUR(1.8.0)       AE    Q      PERCENT          FCSC     NFC   \n",
       "1  FCSA:DF_QGDP_CUR(1.8.0)       AE    Q      PERCENT          FCSC     NFC   \n",
       "2  FCSA:DF_QGDP_CUR(1.8.0)       AE    Q      PERCENT          FCSC     NFC   \n",
       "3  FCSA:DF_QGDP_CUR(1.8.0)       AE    Q      PERCENT          FCSC     NFC   \n",
       "4  FCSA:DF_QGDP_CUR(1.8.0)       AE    Q      PERCENT          FCSC     NFC   \n",
       "\n",
       "  QUARTER QGDP_SYS  QGDP_UNIT  TIME_PERIOD  OBS_VALUE  OBS_STATUS  UNIT_MULT  \\\n",
       "0      Q3      CUR  GWTH_RATE         2013   4.355075         NaN        NaN   \n",
       "1      Q3      CUR  GWTH_RATE         2014   4.394883         NaN        NaN   \n",
       "2      Q3      CUR  GWTH_RATE         2015 -15.526115         NaN        NaN   \n",
       "3      Q3      CUR  GWTH_RATE         2016  -1.059347         NaN        NaN   \n",
       "4      Q3      CUR  GWTH_RATE         2017   3.219329         NaN        NaN   \n",
       "\n",
       "   OBS_COMMENT  DECIMALS  \n",
       "0          NaN         1  \n",
       "1          NaN         1  \n",
       "2          NaN         1  \n",
       "3          NaN         1  \n",
       "4          NaN         1  "
      ]
     },
     "execution_count": 17,
     "metadata": {},
     "output_type": "execute_result"
    }
   ],
   "source": [
    "gdp_quarterly_current_prices_df.head()"
   ]
  },
  {
   "cell_type": "code",
   "execution_count": 18,
   "metadata": {},
   "outputs": [
    {
     "name": "stdout",
     "output_type": "stream",
     "text": [
      "<class 'pandas.core.frame.DataFrame'>\n",
      "RangeIndex: 1920 entries, 0 to 1919\n",
      "Data columns (total 15 columns):\n",
      " #   Column         Non-Null Count  Dtype  \n",
      "---  ------         --------------  -----  \n",
      " 0   DATAFLOW       1920 non-null   object \n",
      " 1   REF_AREA       1920 non-null   object \n",
      " 2   FREQ           1920 non-null   object \n",
      " 3   UNIT_MEASURE   1920 non-null   object \n",
      " 4   SOURCE_DETAIL  1920 non-null   object \n",
      " 5   MEASURE        1920 non-null   object \n",
      " 6   QUARTER        1920 non-null   object \n",
      " 7   QGDP_SYS       1920 non-null   object \n",
      " 8   QGDP_UNIT      1920 non-null   object \n",
      " 9   TIME_PERIOD    1920 non-null   int64  \n",
      " 10  OBS_VALUE      1920 non-null   float64\n",
      " 11  OBS_STATUS     0 non-null      float64\n",
      " 12  UNIT_MULT      0 non-null      float64\n",
      " 13  OBS_COMMENT    0 non-null      float64\n",
      " 14  DECIMALS       1920 non-null   int64  \n",
      "dtypes: float64(4), int64(2), object(9)\n",
      "memory usage: 225.1+ KB\n"
     ]
    }
   ],
   "source": [
    "gdp_quarterly_current_prices_df.info()"
   ]
  },
  {
   "cell_type": "code",
   "execution_count": 19,
   "metadata": {},
   "outputs": [
    {
     "name": "stdout",
     "output_type": "stream",
     "text": [
      "DATAFLOW                      1\n",
      "REF_AREA                      1\n",
      "FREQ                          1\n",
      "UNIT_MEASURE                  2\n",
      "SOURCE_DETAIL                 1\n",
      "MEASURE                       20\n",
      "QUARTER                       4\n",
      "QGDP_SYS                      1\n",
      "QGDP_UNIT                     2\n",
      "TIME_PERIOD                   13\n",
      "OBS_VALUE                     1920\n",
      "OBS_STATUS                    0\n",
      "UNIT_MULT                     0\n",
      "OBS_COMMENT                   0\n",
      "DECIMALS                      2\n"
     ]
    }
   ],
   "source": [
    "for column in gdp_quarterly_current_prices_df.columns:\n",
    "    unique_values = gdp_quarterly_current_prices_df[column].nunique()\n",
    "    print(\"{:<30}{}\".format(column, unique_values))"
   ]
  },
  {
   "cell_type": "code",
   "execution_count": 20,
   "metadata": {},
   "outputs": [
    {
     "name": "stdout",
     "output_type": "stream",
     "text": [
      "DATAFLOW                      DATAFLOW\n",
      "FCSA:DF_QGDP_CUR(1.8.0)    1920\n",
      "Name: count, dtype: int64\n",
      "REF_AREA                      REF_AREA\n",
      "AE    1920\n",
      "Name: count, dtype: int64\n",
      "FREQ                          FREQ\n",
      "Q    1920\n",
      "Name: count, dtype: int64\n",
      "UNIT_MEASURE                  UNIT_MEASURE\n",
      "MILAED     1000\n",
      "PERCENT     920\n",
      "Name: count, dtype: int64\n",
      "SOURCE_DETAIL                 SOURCE_DETAIL\n",
      "FCSC    1920\n",
      "Name: count, dtype: int64\n",
      "MEASURE                       MEASURE\n",
      "NFC        96\n",
      "FIN        96\n",
      "ACT        96\n",
      "INF        96\n",
      "TRA        96\n",
      "TOT_NO     96\n",
      "EDU        96\n",
      "AGR        96\n",
      "ELE        96\n",
      "MAN        96\n",
      "ART        96\n",
      "TOT_GDP    96\n",
      "PRO        96\n",
      "HUM        96\n",
      "PUB        96\n",
      "CON        96\n",
      "REA        96\n",
      "MIN        96\n",
      "WHO        96\n",
      "ACC        96\n",
      "Name: count, dtype: int64\n",
      "QUARTER                       QUARTER\n",
      "Q2    500\n",
      "Q1    500\n",
      "Q3    460\n",
      "Q4    460\n",
      "Name: count, dtype: int64\n",
      "QGDP_SYS                      QGDP_SYS\n",
      "CUR    1920\n",
      "Name: count, dtype: int64\n",
      "QGDP_UNIT                     QGDP_UNIT\n",
      "VAL          1000\n",
      "GWTH_RATE     920\n",
      "Name: count, dtype: int64\n",
      "TIME_PERIOD                   TIME_PERIOD\n",
      "2013    160\n",
      "2014    160\n",
      "2015    160\n",
      "2016    160\n",
      "2017    160\n",
      "2018    160\n",
      "2019    160\n",
      "2020    160\n",
      "2021    160\n",
      "2022    160\n",
      "2023    160\n",
      "2012     80\n",
      "2024     80\n",
      "Name: count, dtype: int64\n",
      "OBS_VALUE                     OBS_VALUE\n",
      "4.355075        1\n",
      "4.394883        1\n",
      "2477.475660     1\n",
      "2467.777485     1\n",
      "2447.148292     1\n",
      "               ..\n",
      "18244.491830    1\n",
      "17719.376070    1\n",
      "17376.169550    1\n",
      "17052.021050    1\n",
      "9620.743709     1\n",
      "Name: count, Length: 1920, dtype: int64\n",
      "OBS_STATUS                    Series([], Name: count, dtype: int64)\n",
      "UNIT_MULT                     Series([], Name: count, dtype: int64)\n",
      "OBS_COMMENT                   Series([], Name: count, dtype: int64)\n",
      "DECIMALS                      DECIMALS\n",
      "0    1000\n",
      "1     920\n",
      "Name: count, dtype: int64\n"
     ]
    }
   ],
   "source": [
    "for column in gdp_quarterly_current_prices_df.columns:\n",
    "    unique_values = gdp_quarterly_current_prices_df[column].value_counts()\n",
    "    print(\"{:<30}{}\".format(column, unique_values))"
   ]
  },
  {
   "cell_type": "code",
   "execution_count": 21,
   "metadata": {},
   "outputs": [
    {
     "data": {
      "text/plain": [
       "0"
      ]
     },
     "execution_count": 21,
     "metadata": {},
     "output_type": "execute_result"
    }
   ],
   "source": [
    "gdp_quarterly_current_prices_df.duplicated().sum()"
   ]
  },
  {
   "cell_type": "code",
   "execution_count": 22,
   "metadata": {},
   "outputs": [
    {
     "data": {
      "text/plain": [
       "DATAFLOW            0\n",
       "REF_AREA            0\n",
       "FREQ                0\n",
       "UNIT_MEASURE        0\n",
       "SOURCE_DETAIL       0\n",
       "MEASURE             0\n",
       "QUARTER             0\n",
       "QGDP_SYS            0\n",
       "QGDP_UNIT           0\n",
       "TIME_PERIOD         0\n",
       "OBS_VALUE           0\n",
       "OBS_STATUS       1920\n",
       "UNIT_MULT        1920\n",
       "OBS_COMMENT      1920\n",
       "DECIMALS            0\n",
       "dtype: int64"
      ]
     },
     "execution_count": 22,
     "metadata": {},
     "output_type": "execute_result"
    }
   ],
   "source": [
    "gdp_quarterly_current_prices_df.isnull().sum()"
   ]
  },
  {
   "cell_type": "code",
   "execution_count": 23,
   "metadata": {},
   "outputs": [
    {
     "data": {
      "text/plain": [
       "array([[<Axes: title={'center': 'TIME_PERIOD'}>,\n",
       "        <Axes: title={'center': 'OBS_VALUE'}>],\n",
       "       [<Axes: title={'center': 'OBS_STATUS'}>,\n",
       "        <Axes: title={'center': 'UNIT_MULT'}>],\n",
       "       [<Axes: title={'center': 'OBS_COMMENT'}>,\n",
       "        <Axes: title={'center': 'DECIMALS'}>]], dtype=object)"
      ]
     },
     "execution_count": 23,
     "metadata": {},
     "output_type": "execute_result"
    },
    {
     "data": {
      "image/png": "[encoded data removed]",
      "text/plain": [
       "<Figure size 1000x1000 with 6 Axes>"
      ]
     },
     "metadata": {},
     "output_type": "display_data"
    }
   ],
   "source": [
    "gdp_quarterly_current_prices_df.hist(figsize=(10, 10))"
   ]
  },
  {
   "cell_type": "markdown",
   "metadata": {},
   "source": [
    "## Data Cleaning"
   ]
  },
  {
   "cell_type": "code",
   "execution_count": 24,
   "metadata": {},
   "outputs": [],
   "source": [
    "gdp_quarterly_current_prices_df.drop(columns=['OBS_STATUS', 'UNIT_MULT','OBS_COMMENT'], inplace = True)"
   ]
  },
  {
   "cell_type": "code",
   "execution_count": 25,
   "metadata": {},
   "outputs": [],
   "source": [
    "cols_to_drop = [col for col in gdp_quarterly_current_prices_df.columns if gdp_quarterly_current_prices_df[col].nunique() == 1]\n",
    "gdp_quarterly_current_prices_df = gdp_quarterly_current_prices_df.drop(columns=cols_to_drop)"
   ]
  },
  {
   "cell_type": "code",
   "execution_count": 26,
   "metadata": {},
   "outputs": [],
   "source": [
    "gdp_quarterly_current_prices_df.rename(columns={'UNIT_MEASURE': 'Unit of Measure', 'MEASURE': 'Measure','QUARTER': 'Quarter','QGDP_UNIT':'GDP Unit','TIME_PERIOD': 'Time Period', 'OBS_VALUE': 'Value'}, inplace=True)"
   ]
  },
  {
   "cell_type": "code",
   "execution_count": 27,
   "metadata": {},
   "outputs": [],
   "source": [
    "gdp_quarterly_current_prices_df['Unit of Measure'] = gdp_quarterly_current_prices_df['Unit of Measure'].replace({\n",
    "    'MILAED': 'AED Million',\n",
    "    'PERCENT': 'percent'\n",
    "})"
   ]
  },
  {
   "cell_type": "code",
   "execution_count": 28,
   "metadata": {},
   "outputs": [],
   "source": [
    "gdp_quarterly_current_prices_df['Measure'] = gdp_quarterly_current_prices_df['Measure'].replace({\n",
    "    'NFC': 'Non Financial Corporations',\n",
    "    'AGR': 'Agriculture, Forestry and Fishing',\n",
    "    'MIN' : 'Mining and Quarrying',\n",
    "    'MAN' : 'Manufacturing',\n",
    "    'ELE' : 'Electricity, gas, and Water Supply',\n",
    "    'CON' : 'Construction',\n",
    "    'WHO' : 'Wholesale and Retail Trade',\n",
    "    'TRA' : 'Transportation and Storage',\n",
    "    'ACC' : 'Accomodation and Food Service Activities',\n",
    "    'INF' : 'Information and Communication',\n",
    "    'FIN' : 'Financial and Insurance Activities',\n",
    "    'REA' : 'Real Estate Activities',\n",
    "    'PRO' : 'Professional Activities',\n",
    "    'PUB' : 'Public Administration and Defence',\n",
    "    'EDU' : 'Education',\n",
    "    'HUM' : 'Human Health and Social work Activities',\n",
    "    'ART' : 'Arts and Other Service Activities',\n",
    "    'ACT' : 'Activities of Households as Employers',\n",
    "    'TOT_GDP' : 'Gross Domestic Product',\n",
    "    'TOT_NO' : 'Non-oil Gross Domestic Product'\n",
    "})"
   ]
  },
  {
   "cell_type": "code",
   "execution_count": 29,
   "metadata": {},
   "outputs": [],
   "source": [
    "gdp_quarterly_current_prices_df['GDP Unit'] = gdp_quarterly_current_prices_df['GDP Unit'].replace({\n",
    "    'VAL': 'Value',\n",
    "    'GWTH_RATE': 'Annual growth rate',\n",
    "})"
   ]
  },
  {
   "cell_type": "code",
   "execution_count": 32,
   "metadata": {},
   "outputs": [],
   "source": [
    "# gdp_quarterly_current_prices_df.to_csv('../Cleaned Datasets\\\\Gross Domestic Product\\\\GDP_Quarterly_Current_Prices.csv', index=False)"
   ]
  },
  {
   "cell_type": "markdown",
   "metadata": {},
   "source": [
    "# Pumping Data into Mongodb"
   ]
  },
  {
   "cell_type": "code",
   "execution_count": 30,
   "metadata": {},
   "outputs": [],
   "source": [
    "# from pymongo import MongoClient\n",
    "# from dotenv import load_dotenv\n",
    "# import os\n",
    "\n",
    "# # Connect to MongoDB\n",
    "# load_dotenv()\n",
    "\n",
    "# client = MongoClient(os.environ['MONGODB_URI_1'])  # Uses the connection string from your .env file\n",
    "# db = client['tourism_db']\n",
    "\n",
    "# # Convert DataFrame to dictionary\n",
    "# gdp_quarterly_constant_prices_df = gdp_quarterly_constant_prices_df.to_dict('records')\n",
    "# gdp_quarterly_current_prices_df = gdp_quarterly_current_prices_df.to_dict('records')\n",
    "\n",
    "# # Insert into MongoDB collections\n",
    "# db['guests_by_hotel_type_by_region'].insert_many(gdp_quarterly_constant_prices_df)\n",
    "# db['gdp_quarterly_current_prices_df'].insert_many(gdp_quarterly_current_prices_df)\n",
    "\n",
    "# print(\"Data pumped into MongoDB successfully!\")"
   ]
  }
 ],
 "metadata": {
  "kernelspec": {
   "display_name": "Python 3",
   "language": "python",
   "name": "python3"
  },
  "language_info": {
   "codemirror_mode": {
    "name": "ipython",
    "version": 3
   },
   "file_extension": ".py",
   "mimetype": "text/x-python",
   "name": "python",
   "nbconvert_exporter": "python",
   "pygments_lexer": "ipython3",
   "version": "3.12.4"
  }
 },
 "nbformat": 4,
 "nbformat_minor": 2
}
