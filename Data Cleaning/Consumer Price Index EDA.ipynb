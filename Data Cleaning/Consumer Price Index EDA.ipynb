{
 "cells": [
  {
   "cell_type": "code",
   "execution_count": 1,
   "metadata": {},
   "outputs": [],
   "source": [
    "import pandas as pd\n",
    "\n",
    "import matplotlib.pyplot as plt"
   ]
  },
  {
   "cell_type": "code",
   "execution_count": 2,
   "metadata": {},
   "outputs": [],
   "source": [
    "consumer_price_index_annually_df = pd.read_csv('../Datasets\\\\Consumer Price Index\\\\Consumer_Price_Index_Annually.csv')\n",
    "consumer_price_index_monthly_df = pd.read_csv('../Datasets\\\\Consumer Price Index\\\\Consumer_Price_Index_Monthly.csv')\n",
    "consumer_price_index_quarterly_df = pd.read_csv('../Datasets\\\\Consumer Price Index\\\\Consumer_Price_Index_Quarterly.csv')"
   ]
  },
  {
   "cell_type": "markdown",
   "metadata": {},
   "source": [
    "# Consumer Price Annually"
   ]
  },
  {
   "cell_type": "markdown",
   "metadata": {},
   "source": [
    "## Data Understanding"
   ]
  },
  {
   "cell_type": "code",
   "execution_count": 137,
   "metadata": {},
   "outputs": [
    {
     "data": {
      "text/html": [
       "<div>\n",
       "<style scoped>\n",
       "    .dataframe tbody tr th:only-of-type {\n",
       "        vertical-align: middle;\n",
       "    }\n",
       "\n",
       "    .dataframe tbody tr th {\n",
       "        vertical-align: top;\n",
       "    }\n",
       "\n",
       "    .dataframe thead th {\n",
       "        text-align: right;\n",
       "    }\n",
       "</style>\n",
       "<table border=\"1\" class=\"dataframe\">\n",
       "  <thead>\n",
       "    <tr style=\"text-align: right;\">\n",
       "      <th></th>\n",
       "      <th>DATAFLOW</th>\n",
       "      <th>MEASURE</th>\n",
       "      <th>UNIT_MEASURE</th>\n",
       "      <th>REF_AREA</th>\n",
       "      <th>FREQ</th>\n",
       "      <th>CPI_DIV</th>\n",
       "      <th>SOURCE_DETAIL</th>\n",
       "      <th>TIME_PERIOD</th>\n",
       "      <th>OBS_VALUE</th>\n",
       "      <th>DECIMALS</th>\n",
       "      <th>OBS_STATUS</th>\n",
       "      <th>UNIT_MULT</th>\n",
       "    </tr>\n",
       "  </thead>\n",
       "  <tbody>\n",
       "    <tr>\n",
       "      <th>0</th>\n",
       "      <td>FCSA:DF_CPI_ANN(3.2.0)</td>\n",
       "      <td>CPI_INDEX21</td>\n",
       "      <td>INDX</td>\n",
       "      <td>AE</td>\n",
       "      <td>A</td>\n",
       "      <td>FUR</td>\n",
       "      <td>FCSA</td>\n",
       "      <td>2021</td>\n",
       "      <td>100.000000</td>\n",
       "      <td>2</td>\n",
       "      <td>NaN</td>\n",
       "      <td>NaN</td>\n",
       "    </tr>\n",
       "    <tr>\n",
       "      <th>1</th>\n",
       "      <td>FCSA:DF_CPI_ANN(3.2.0)</td>\n",
       "      <td>CPI_INDEX21</td>\n",
       "      <td>INDX</td>\n",
       "      <td>AE</td>\n",
       "      <td>A</td>\n",
       "      <td>FUR</td>\n",
       "      <td>FCSA</td>\n",
       "      <td>2022</td>\n",
       "      <td>100.020000</td>\n",
       "      <td>2</td>\n",
       "      <td>NaN</td>\n",
       "      <td>NaN</td>\n",
       "    </tr>\n",
       "    <tr>\n",
       "      <th>2</th>\n",
       "      <td>FCSA:DF_CPI_ANN(3.2.0)</td>\n",
       "      <td>CPI_INDEX21</td>\n",
       "      <td>INDX</td>\n",
       "      <td>AE</td>\n",
       "      <td>A</td>\n",
       "      <td>FUR</td>\n",
       "      <td>FCSA</td>\n",
       "      <td>2023</td>\n",
       "      <td>103.223874</td>\n",
       "      <td>2</td>\n",
       "      <td>NaN</td>\n",
       "      <td>NaN</td>\n",
       "    </tr>\n",
       "    <tr>\n",
       "      <th>3</th>\n",
       "      <td>FCSA:DF_CPI_ANN(3.2.0)</td>\n",
       "      <td>CPI_ANNCHG</td>\n",
       "      <td>PERCENT</td>\n",
       "      <td>AE</td>\n",
       "      <td>A</td>\n",
       "      <td>TEX</td>\n",
       "      <td>FCSA</td>\n",
       "      <td>2010</td>\n",
       "      <td>-4.960000</td>\n",
       "      <td>2</td>\n",
       "      <td>NaN</td>\n",
       "      <td>NaN</td>\n",
       "    </tr>\n",
       "    <tr>\n",
       "      <th>4</th>\n",
       "      <td>FCSA:DF_CPI_ANN(3.2.0)</td>\n",
       "      <td>CPI_ANNCHG</td>\n",
       "      <td>PERCENT</td>\n",
       "      <td>AE</td>\n",
       "      <td>A</td>\n",
       "      <td>TEX</td>\n",
       "      <td>FCSA</td>\n",
       "      <td>2011</td>\n",
       "      <td>-1.870000</td>\n",
       "      <td>2</td>\n",
       "      <td>NaN</td>\n",
       "      <td>NaN</td>\n",
       "    </tr>\n",
       "  </tbody>\n",
       "</table>\n",
       "</div>"
      ],
      "text/plain": [
       "                 DATAFLOW      MEASURE UNIT_MEASURE REF_AREA FREQ CPI_DIV  \\\n",
       "0  FCSA:DF_CPI_ANN(3.2.0)  CPI_INDEX21         INDX       AE    A     FUR   \n",
       "1  FCSA:DF_CPI_ANN(3.2.0)  CPI_INDEX21         INDX       AE    A     FUR   \n",
       "2  FCSA:DF_CPI_ANN(3.2.0)  CPI_INDEX21         INDX       AE    A     FUR   \n",
       "3  FCSA:DF_CPI_ANN(3.2.0)   CPI_ANNCHG      PERCENT       AE    A     TEX   \n",
       "4  FCSA:DF_CPI_ANN(3.2.0)   CPI_ANNCHG      PERCENT       AE    A     TEX   \n",
       "\n",
       "  SOURCE_DETAIL  TIME_PERIOD   OBS_VALUE  DECIMALS  OBS_STATUS  UNIT_MULT  \n",
       "0          FCSA         2021  100.000000         2         NaN        NaN  \n",
       "1          FCSA         2022  100.020000         2         NaN        NaN  \n",
       "2          FCSA         2023  103.223874         2         NaN        NaN  \n",
       "3          FCSA         2010   -4.960000         2         NaN        NaN  \n",
       "4          FCSA         2011   -1.870000         2         NaN        NaN  "
      ]
     },
     "execution_count": 137,
     "metadata": {},
     "output_type": "execute_result"
    }
   ],
   "source": [
    "consumer_price_index_annually_df.head()"
   ]
  },
  {
   "cell_type": "code",
   "execution_count": 138,
   "metadata": {},
   "outputs": [
    {
     "name": "stdout",
     "output_type": "stream",
     "text": [
      "<class 'pandas.core.frame.DataFrame'>\n",
      "RangeIndex: 369 entries, 0 to 368\n",
      "Data columns (total 12 columns):\n",
      " #   Column         Non-Null Count  Dtype  \n",
      "---  ------         --------------  -----  \n",
      " 0   DATAFLOW       369 non-null    object \n",
      " 1   MEASURE        369 non-null    object \n",
      " 2   UNIT_MEASURE   369 non-null    object \n",
      " 3   REF_AREA       369 non-null    object \n",
      " 4   FREQ           369 non-null    object \n",
      " 5   CPI_DIV        369 non-null    object \n",
      " 6   SOURCE_DETAIL  369 non-null    object \n",
      " 7   TIME_PERIOD    369 non-null    int64  \n",
      " 8   OBS_VALUE      369 non-null    float64\n",
      " 9   DECIMALS       369 non-null    int64  \n",
      " 10  OBS_STATUS     0 non-null      float64\n",
      " 11  UNIT_MULT      0 non-null      float64\n",
      "dtypes: float64(3), int64(2), object(7)\n",
      "memory usage: 34.7+ KB\n"
     ]
    }
   ],
   "source": [
    "consumer_price_index_annually_df.info()"
   ]
  },
  {
   "cell_type": "code",
   "execution_count": 139,
   "metadata": {},
   "outputs": [
    {
     "name": "stdout",
     "output_type": "stream",
     "text": [
      "DATAFLOW                      1\n",
      "MEASURE                       4\n",
      "UNIT_MEASURE                  2\n",
      "REF_AREA                      1\n",
      "FREQ                          1\n",
      "CPI_DIV                       14\n",
      "SOURCE_DETAIL                 1\n",
      "TIME_PERIOD                   14\n",
      "OBS_VALUE                     327\n",
      "DECIMALS                      1\n",
      "OBS_STATUS                    0\n",
      "UNIT_MULT                     0\n"
     ]
    }
   ],
   "source": [
    "for column in consumer_price_index_annually_df.columns:\n",
    "    unique_values = consumer_price_index_annually_df[column].nunique()\n",
    "    print(\"{:<30}{}\".format(column, unique_values))"
   ]
  },
  {
   "cell_type": "code",
   "execution_count": 140,
   "metadata": {},
   "outputs": [
    {
     "name": "stdout",
     "output_type": "stream",
     "text": [
      "DATAFLOW                      DATAFLOW\n",
      "FCSA:DF_CPI_ANN(3.2.0)    369\n",
      "Name: count, dtype: int64\n",
      "MEASURE                       MEASURE\n",
      "CPI_ANNCHG      156\n",
      "CPI_INDEX14     143\n",
      "CPI_INDEX21      42\n",
      "CPI_ANNCHG21     28\n",
      "Name: count, dtype: int64\n",
      "UNIT_MEASURE                  UNIT_MEASURE\n",
      "INDX       185\n",
      "PERCENT    184\n",
      "Name: count, dtype: int64\n",
      "REF_AREA                      REF_AREA\n",
      "AE    369\n",
      "Name: count, dtype: int64\n",
      "FREQ                          FREQ\n",
      "A    369\n",
      "Name: count, dtype: int64\n",
      "CPI_DIV                       CPI_DIV\n",
      "FUR    28\n",
      "TEX    28\n",
      "HOU    28\n",
      "COM    28\n",
      "FNB    28\n",
      "REC    28\n",
      "TRN    28\n",
      "RES    28\n",
      "MIS    28\n",
      "EDU    28\n",
      "ALL    28\n",
      "MED    28\n",
      "TOB    28\n",
      "INS     5\n",
      "Name: count, dtype: int64\n",
      "SOURCE_DETAIL                 SOURCE_DETAIL\n",
      "FCSA    369\n",
      "Name: count, dtype: int64\n",
      "TIME_PERIOD                   TIME_PERIOD\n",
      "2022    28\n",
      "2023    28\n",
      "2021    27\n",
      "2010    26\n",
      "2011    26\n",
      "2012    26\n",
      "2013    26\n",
      "2014    26\n",
      "2015    26\n",
      "2016    26\n",
      "2017    26\n",
      "2018    26\n",
      "2019    26\n",
      "2020    26\n",
      "Name: count, dtype: int64\n",
      "OBS_VALUE                     OBS_VALUE\n",
      "100.00000    27\n",
      "0.88000       4\n",
      "3.57000       2\n",
      "0.43000       2\n",
      "101.24000     2\n",
      "             ..\n",
      "1.62000       1\n",
      "4.07000       1\n",
      "2.35000       1\n",
      "1.10000       1\n",
      "6.62562       1\n",
      "Name: count, Length: 327, dtype: int64\n",
      "DECIMALS                      DECIMALS\n",
      "2    369\n",
      "Name: count, dtype: int64\n",
      "OBS_STATUS                    Series([], Name: count, dtype: int64)\n",
      "UNIT_MULT                     Series([], Name: count, dtype: int64)\n"
     ]
    }
   ],
   "source": [
    "for column in consumer_price_index_annually_df.columns:\n",
    "    unique_values = consumer_price_index_annually_df[column].value_counts()\n",
    "    print(\"{:<30}{}\".format(column, unique_values))"
   ]
  },
  {
   "cell_type": "code",
   "execution_count": 141,
   "metadata": {},
   "outputs": [
    {
     "data": {
      "text/plain": [
       "0"
      ]
     },
     "execution_count": 141,
     "metadata": {},
     "output_type": "execute_result"
    }
   ],
   "source": [
    "consumer_price_index_annually_df.duplicated().sum()"
   ]
  },
  {
   "cell_type": "code",
   "execution_count": 142,
   "metadata": {},
   "outputs": [
    {
     "data": {
      "text/plain": [
       "DATAFLOW           0\n",
       "MEASURE            0\n",
       "UNIT_MEASURE       0\n",
       "REF_AREA           0\n",
       "FREQ               0\n",
       "CPI_DIV            0\n",
       "SOURCE_DETAIL      0\n",
       "TIME_PERIOD        0\n",
       "OBS_VALUE          0\n",
       "DECIMALS           0\n",
       "OBS_STATUS       369\n",
       "UNIT_MULT        369\n",
       "dtype: int64"
      ]
     },
     "execution_count": 142,
     "metadata": {},
     "output_type": "execute_result"
    }
   ],
   "source": [
    "consumer_price_index_annually_df.isnull().sum()"
   ]
  },
  {
   "cell_type": "code",
   "execution_count": 143,
   "metadata": {},
   "outputs": [
    {
     "data": {
      "text/plain": [
       "array([[<Axes: title={'center': 'TIME_PERIOD'}>,\n",
       "        <Axes: title={'center': 'OBS_VALUE'}>],\n",
       "       [<Axes: title={'center': 'DECIMALS'}>,\n",
       "        <Axes: title={'center': 'OBS_STATUS'}>],\n",
       "       [<Axes: title={'center': 'UNIT_MULT'}>, <Axes: >]], dtype=object)"
      ]
     },
     "execution_count": 143,
     "metadata": {},
     "output_type": "execute_result"
    },
    {
     "data": {
      "image/png": "[encoded data removed]",
      "text/plain": [
       "<Figure size 1000x1000 with 6 Axes>"
      ]
     },
     "metadata": {},
     "output_type": "display_data"
    }
   ],
   "source": [
    "consumer_price_index_annually_df.hist(figsize=(10, 10))"
   ]
  },
  {
   "cell_type": "markdown",
   "metadata": {},
   "source": [
    "## Data Cleaning"
   ]
  },
  {
   "cell_type": "code",
   "execution_count": 144,
   "metadata": {},
   "outputs": [],
   "source": [
    "consumer_price_index_annually_df.drop(columns=['OBS_STATUS', 'UNIT_MULT'], inplace = True)"
   ]
  },
  {
   "cell_type": "code",
   "execution_count": 145,
   "metadata": {},
   "outputs": [],
   "source": [
    "cols_to_drop = [col for col in consumer_price_index_annually_df.columns if consumer_price_index_annually_df[col].nunique() == 1]\n",
    "consumer_price_index_annually_df = consumer_price_index_annually_df.drop(columns=cols_to_drop)"
   ]
  },
  {
   "cell_type": "code",
   "execution_count": 146,
   "metadata": {},
   "outputs": [],
   "source": [
    "consumer_price_index_annually_df.rename(columns={'UNIT_MEASURE': 'Unit of Measure', 'MEASURE': 'Measure','CPI_DIV': 'CPI Division','TIME_PERIOD': 'Time Period', 'OBS_VALUE': 'Value'}, inplace=True)"
   ]
  },
  {
   "cell_type": "code",
   "execution_count": 147,
   "metadata": {},
   "outputs": [
    {
     "name": "stderr",
     "output_type": "stream",
     "text": [
      "C:\\Users\\Cody\\AppData\\Local\\Temp\\ipykernel_15812\\4131448511.py:1: FutureWarning: A value is trying to be set on a copy of a DataFrame or Series through chained assignment using an inplace method.\n",
      "The behavior will change in pandas 3.0. This inplace method will never work because the intermediate object on which we are setting values always behaves as a copy.\n",
      "\n",
      "For example, when doing 'df[col].method(value, inplace=True)', try using 'df.method({col: value}, inplace=True)' or df[col] = df[col].method(value) instead, to perform the operation inplace on the original object.\n",
      "\n",
      "\n",
      "  consumer_price_index_annually_df['Measure'].replace({\n"
     ]
    }
   ],
   "source": [
    "consumer_price_index_annually_df['Measure'].replace({\n",
    "    'CPI_INDEX21': 'Index number (base year 2021 = 100)',\n",
    "    'CPI_INDEX14': 'Index number (base year 2014 = 100)',\n",
    "    'CPI_ANNCHG': 'Annual Change (%)(base year 2014 = 100)',\n",
    "    'CPI_ANNCHG21': 'Annual Change (%)(base year 2021 = 100)'\n",
    "}, inplace=True)"
   ]
  },
  {
   "cell_type": "code",
   "execution_count": 148,
   "metadata": {},
   "outputs": [
    {
     "data": {
      "text/plain": [
       "0           Index\n",
       "1           Index\n",
       "2           Index\n",
       "3      Percentage\n",
       "4      Percentage\n",
       "          ...    \n",
       "364    Percentage\n",
       "365    Percentage\n",
       "366    Percentage\n",
       "367    Percentage\n",
       "368    Percentage\n",
       "Name: Unit of Measure, Length: 369, dtype: object"
      ]
     },
     "execution_count": 148,
     "metadata": {},
     "output_type": "execute_result"
    }
   ],
   "source": [
    "consumer_price_index_annually_df['Unit of Measure'].replace({\n",
    "    'INDX': 'Index',\n",
    "    'PERCENT': 'Percentage'\n",
    "})"
   ]
  },
  {
   "cell_type": "code",
   "execution_count": 149,
   "metadata": {},
   "outputs": [],
   "source": [
    "consumer_price_index_annually_df['CPI Division'] = consumer_price_index_annually_df['CPI Division'].replace({\n",
    "    'ALL': 'All Items',\n",
    "    'FNB': 'Food and Beverages',\n",
    "    'TOB': 'Tobacco',\n",
    "    'TEX': 'Textiles, Clothing and Footwear',\n",
    "    'HOU': 'Housing, Water, Electricity, Gas',\n",
    "    'FUR': 'Furniture and Household Goods',\n",
    "    'MED': 'Medical Care',\n",
    "    'TRN': 'Transportation',\n",
    "    'COM': 'Communications',\n",
    "    'REC': 'Recreation and Culture',\n",
    "    'EDU': 'Education',\n",
    "    'RES': 'Restaurants and Hotels',\n",
    "    'MIS': 'Miscellaneous Goods and Services'\n",
    "})"
   ]
  },
  {
   "cell_type": "code",
   "execution_count": 150,
   "metadata": {},
   "outputs": [],
   "source": [
    "# consumer_price_index_annually_df.to_csv('Cleaned Datasets\\\\Consumer Price Index\\\\Consumer_Price_Index_Annually.csv', index=False)"
   ]
  },
  {
   "cell_type": "markdown",
   "metadata": {},
   "source": [
    "# Consumer Price Monthly"
   ]
  },
  {
   "cell_type": "code",
   "execution_count": 151,
   "metadata": {},
   "outputs": [
    {
     "data": {
      "text/html": [
       "<div>\n",
       "<style scoped>\n",
       "    .dataframe tbody tr th:only-of-type {\n",
       "        vertical-align: middle;\n",
       "    }\n",
       "\n",
       "    .dataframe tbody tr th {\n",
       "        vertical-align: top;\n",
       "    }\n",
       "\n",
       "    .dataframe thead th {\n",
       "        text-align: right;\n",
       "    }\n",
       "</style>\n",
       "<table border=\"1\" class=\"dataframe\">\n",
       "  <thead>\n",
       "    <tr style=\"text-align: right;\">\n",
       "      <th></th>\n",
       "      <th>DATAFLOW</th>\n",
       "      <th>MEASURE</th>\n",
       "      <th>UNIT_MEASURE</th>\n",
       "      <th>REF_AREA</th>\n",
       "      <th>FREQ</th>\n",
       "      <th>CPI_DIV</th>\n",
       "      <th>SOURCE_DETAIL</th>\n",
       "      <th>TIME_PERIOD</th>\n",
       "      <th>OBS_VALUE</th>\n",
       "      <th>DECIMALS</th>\n",
       "      <th>OBS_STATUS</th>\n",
       "      <th>UNIT_MULT</th>\n",
       "    </tr>\n",
       "  </thead>\n",
       "  <tbody>\n",
       "    <tr>\n",
       "      <th>0</th>\n",
       "      <td>FCSA:DF_CPI(3.2.0)</td>\n",
       "      <td>CPI_ANNCHG</td>\n",
       "      <td>PERCENT</td>\n",
       "      <td>AE</td>\n",
       "      <td>M</td>\n",
       "      <td>FUR</td>\n",
       "      <td>FCSA</td>\n",
       "      <td>2009-01</td>\n",
       "      <td>7.25</td>\n",
       "      <td>2</td>\n",
       "      <td>NaN</td>\n",
       "      <td>NaN</td>\n",
       "    </tr>\n",
       "    <tr>\n",
       "      <th>1</th>\n",
       "      <td>FCSA:DF_CPI(3.2.0)</td>\n",
       "      <td>CPI_ANNCHG</td>\n",
       "      <td>PERCENT</td>\n",
       "      <td>AE</td>\n",
       "      <td>M</td>\n",
       "      <td>FUR</td>\n",
       "      <td>FCSA</td>\n",
       "      <td>2009-02</td>\n",
       "      <td>3.87</td>\n",
       "      <td>2</td>\n",
       "      <td>NaN</td>\n",
       "      <td>NaN</td>\n",
       "    </tr>\n",
       "    <tr>\n",
       "      <th>2</th>\n",
       "      <td>FCSA:DF_CPI(3.2.0)</td>\n",
       "      <td>CPI_ANNCHG</td>\n",
       "      <td>PERCENT</td>\n",
       "      <td>AE</td>\n",
       "      <td>M</td>\n",
       "      <td>FUR</td>\n",
       "      <td>FCSA</td>\n",
       "      <td>2009-03</td>\n",
       "      <td>4.70</td>\n",
       "      <td>2</td>\n",
       "      <td>NaN</td>\n",
       "      <td>NaN</td>\n",
       "    </tr>\n",
       "    <tr>\n",
       "      <th>3</th>\n",
       "      <td>FCSA:DF_CPI(3.2.0)</td>\n",
       "      <td>CPI_ANNCHG</td>\n",
       "      <td>PERCENT</td>\n",
       "      <td>AE</td>\n",
       "      <td>M</td>\n",
       "      <td>FUR</td>\n",
       "      <td>FCSA</td>\n",
       "      <td>2009-04</td>\n",
       "      <td>1.90</td>\n",
       "      <td>2</td>\n",
       "      <td>NaN</td>\n",
       "      <td>NaN</td>\n",
       "    </tr>\n",
       "    <tr>\n",
       "      <th>4</th>\n",
       "      <td>FCSA:DF_CPI(3.2.0)</td>\n",
       "      <td>CPI_ANNCHG</td>\n",
       "      <td>PERCENT</td>\n",
       "      <td>AE</td>\n",
       "      <td>M</td>\n",
       "      <td>FUR</td>\n",
       "      <td>FCSA</td>\n",
       "      <td>2009-05</td>\n",
       "      <td>5.25</td>\n",
       "      <td>2</td>\n",
       "      <td>NaN</td>\n",
       "      <td>NaN</td>\n",
       "    </tr>\n",
       "  </tbody>\n",
       "</table>\n",
       "</div>"
      ],
      "text/plain": [
       "             DATAFLOW     MEASURE UNIT_MEASURE REF_AREA FREQ CPI_DIV  \\\n",
       "0  FCSA:DF_CPI(3.2.0)  CPI_ANNCHG      PERCENT       AE    M     FUR   \n",
       "1  FCSA:DF_CPI(3.2.0)  CPI_ANNCHG      PERCENT       AE    M     FUR   \n",
       "2  FCSA:DF_CPI(3.2.0)  CPI_ANNCHG      PERCENT       AE    M     FUR   \n",
       "3  FCSA:DF_CPI(3.2.0)  CPI_ANNCHG      PERCENT       AE    M     FUR   \n",
       "4  FCSA:DF_CPI(3.2.0)  CPI_ANNCHG      PERCENT       AE    M     FUR   \n",
       "\n",
       "  SOURCE_DETAIL TIME_PERIOD  OBS_VALUE  DECIMALS  OBS_STATUS  UNIT_MULT  \n",
       "0          FCSA     2009-01       7.25         2         NaN        NaN  \n",
       "1          FCSA     2009-02       3.87         2         NaN        NaN  \n",
       "2          FCSA     2009-03       4.70         2         NaN        NaN  \n",
       "3          FCSA     2009-04       1.90         2         NaN        NaN  \n",
       "4          FCSA     2009-05       5.25         2         NaN        NaN  "
      ]
     },
     "execution_count": 151,
     "metadata": {},
     "output_type": "execute_result"
    }
   ],
   "source": [
    "consumer_price_index_monthly_df.head()"
   ]
  },
  {
   "cell_type": "code",
   "execution_count": 152,
   "metadata": {},
   "outputs": [
    {
     "name": "stdout",
     "output_type": "stream",
     "text": [
      "<class 'pandas.core.frame.DataFrame'>\n",
      "RangeIndex: 7361 entries, 0 to 7360\n",
      "Data columns (total 12 columns):\n",
      " #   Column         Non-Null Count  Dtype  \n",
      "---  ------         --------------  -----  \n",
      " 0   DATAFLOW       7361 non-null   object \n",
      " 1   MEASURE        7361 non-null   object \n",
      " 2   UNIT_MEASURE   7361 non-null   object \n",
      " 3   REF_AREA       7361 non-null   object \n",
      " 4   FREQ           7361 non-null   object \n",
      " 5   CPI_DIV        7361 non-null   object \n",
      " 6   SOURCE_DETAIL  7361 non-null   object \n",
      " 7   TIME_PERIOD    7361 non-null   object \n",
      " 8   OBS_VALUE      7361 non-null   float64\n",
      " 9   DECIMALS       7361 non-null   int64  \n",
      " 10  OBS_STATUS     0 non-null      float64\n",
      " 11  UNIT_MULT      0 non-null      float64\n",
      "dtypes: float64(3), int64(1), object(8)\n",
      "memory usage: 690.2+ KB\n"
     ]
    }
   ],
   "source": [
    "consumer_price_index_monthly_df.info()"
   ]
  },
  {
   "cell_type": "code",
   "execution_count": 153,
   "metadata": {},
   "outputs": [
    {
     "name": "stdout",
     "output_type": "stream",
     "text": [
      "DATAFLOW                      1\n",
      "MEASURE                       5\n",
      "UNIT_MEASURE                  2\n",
      "REF_AREA                      1\n",
      "FREQ                          1\n",
      "CPI_DIV                       14\n",
      "SOURCE_DETAIL                 1\n",
      "TIME_PERIOD                   199\n",
      "OBS_VALUE                     3415\n",
      "DECIMALS                      1\n",
      "OBS_STATUS                    0\n",
      "UNIT_MULT                     0\n"
     ]
    }
   ],
   "source": [
    "for column in consumer_price_index_monthly_df.columns:\n",
    "    unique_values = consumer_price_index_monthly_df[column].nunique()\n",
    "    print(\"{:<30}{}\".format(column, unique_values))"
   ]
  },
  {
   "cell_type": "code",
   "execution_count": 154,
   "metadata": {},
   "outputs": [
    {
     "name": "stdout",
     "output_type": "stream",
     "text": [
      "DATAFLOW                      DATAFLOW\n",
      "FCSA:DF_CPI(3.2.0)    7361\n",
      "Name: count, dtype: int64\n",
      "MEASURE                       MEASURE\n",
      "CPI_MTHCHG      2444\n",
      "CPI_INDEX14     2021\n",
      "CPI_ANNCHG      1872\n",
      "CPI_INDEX21      602\n",
      "CPI_ANNCHG21     422\n",
      "Name: count, dtype: int64\n",
      "UNIT_MEASURE                  UNIT_MEASURE\n",
      "PERCENT    4731\n",
      "INDX       2630\n",
      "Name: count, dtype: int64\n",
      "REF_AREA                      REF_AREA\n",
      "AE    7361\n",
      "Name: count, dtype: int64\n",
      "FREQ                          FREQ\n",
      "M    7361\n",
      "Name: count, dtype: int64\n",
      "CPI_DIV                       CPI_DIV\n",
      "FUR    560\n",
      "EDU    560\n",
      "MED    560\n",
      "TRN    560\n",
      "FNB    560\n",
      "REC    560\n",
      "TEX    560\n",
      "TOB    560\n",
      "HOU    560\n",
      "RES    560\n",
      "COM    560\n",
      "MIS    560\n",
      "ALL    560\n",
      "INS     81\n",
      "Name: count, dtype: int64\n",
      "SOURCE_DETAIL                 SOURCE_DETAIL\n",
      "FCSA    7361\n",
      "Name: count, dtype: int64\n",
      "TIME_PERIOD                   TIME_PERIOD\n",
      "2023-08    42\n",
      "2023-11    42\n",
      "2023-01    42\n",
      "2023-02    42\n",
      "2023-03    42\n",
      "           ..\n",
      "2022-04    14\n",
      "2022-03    14\n",
      "2022-02    14\n",
      "2022-01    14\n",
      "2008-01    13\n",
      "Name: count, Length: 199, dtype: int64\n",
      "OBS_VALUE                     OBS_VALUE\n",
      " 0.000000      363\n",
      "-0.010000       73\n",
      " 0.010000       56\n",
      " 0.020000       49\n",
      "-0.020000       41\n",
      "              ... \n",
      " 119.240000      1\n",
      " 119.450000      1\n",
      " 118.860000      1\n",
      " 118.930000      1\n",
      " 0.299637        1\n",
      "Name: count, Length: 3415, dtype: int64\n",
      "DECIMALS                      DECIMALS\n",
      "2    7361\n",
      "Name: count, dtype: int64\n",
      "OBS_STATUS                    Series([], Name: count, dtype: int64)\n",
      "UNIT_MULT                     Series([], Name: count, dtype: int64)\n"
     ]
    }
   ],
   "source": [
    "for column in consumer_price_index_monthly_df.columns:\n",
    "    unique_values = consumer_price_index_monthly_df[column].value_counts()\n",
    "    print(\"{:<30}{}\".format(column, unique_values))"
   ]
  },
  {
   "cell_type": "code",
   "execution_count": 155,
   "metadata": {},
   "outputs": [
    {
     "data": {
      "text/plain": [
       "0"
      ]
     },
     "execution_count": 155,
     "metadata": {},
     "output_type": "execute_result"
    }
   ],
   "source": [
    "consumer_price_index_monthly_df.duplicated().sum()"
   ]
  },
  {
   "cell_type": "code",
   "execution_count": 156,
   "metadata": {},
   "outputs": [
    {
     "data": {
      "text/plain": [
       "DATAFLOW            0\n",
       "MEASURE             0\n",
       "UNIT_MEASURE        0\n",
       "REF_AREA            0\n",
       "FREQ                0\n",
       "CPI_DIV             0\n",
       "SOURCE_DETAIL       0\n",
       "TIME_PERIOD         0\n",
       "OBS_VALUE           0\n",
       "DECIMALS            0\n",
       "OBS_STATUS       7361\n",
       "UNIT_MULT        7361\n",
       "dtype: int64"
      ]
     },
     "execution_count": 156,
     "metadata": {},
     "output_type": "execute_result"
    }
   ],
   "source": [
    "consumer_price_index_monthly_df.isnull().sum()"
   ]
  },
  {
   "cell_type": "code",
   "execution_count": 157,
   "metadata": {},
   "outputs": [
    {
     "data": {
      "text/plain": [
       "array([[<Axes: title={'center': 'OBS_VALUE'}>,\n",
       "        <Axes: title={'center': 'DECIMALS'}>],\n",
       "       [<Axes: title={'center': 'OBS_STATUS'}>,\n",
       "        <Axes: title={'center': 'UNIT_MULT'}>]], dtype=object)"
      ]
     },
     "execution_count": 157,
     "metadata": {},
     "output_type": "execute_result"
    },
    {
     "data": {
      "image/png": "[encoded data removed]",
      "text/plain": [
       "<Figure size 1000x1000 with 4 Axes>"
      ]
     },
     "metadata": {},
     "output_type": "display_data"
    }
   ],
   "source": [
    "consumer_price_index_monthly_df.hist(figsize=(10, 10))"
   ]
  },
  {
   "cell_type": "markdown",
   "metadata": {},
   "source": [
    "## Data Cleaning"
   ]
  },
  {
   "cell_type": "code",
   "execution_count": 158,
   "metadata": {},
   "outputs": [],
   "source": [
    "consumer_price_index_monthly_df.drop(columns=['OBS_STATUS', 'UNIT_MULT'], inplace = True)"
   ]
  },
  {
   "cell_type": "code",
   "execution_count": 159,
   "metadata": {},
   "outputs": [],
   "source": [
    "cols_to_drop = [col for col in consumer_price_index_monthly_df.columns if consumer_price_index_monthly_df[col].nunique() == 1]\n",
    "consumer_price_index_monthly_df = consumer_price_index_monthly_df.drop(columns=cols_to_drop)"
   ]
  },
  {
   "cell_type": "code",
   "execution_count": 160,
   "metadata": {},
   "outputs": [],
   "source": [
    "consumer_price_index_monthly_df.rename(columns={'UNIT_MEASURE': 'Unit of Measure', 'MEASURE': 'Measure','CPI_DIV': 'CPI Division','TIME_PERIOD': 'Time Period', 'OBS_VALUE': 'Value'}, inplace=True)"
   ]
  },
  {
   "cell_type": "code",
   "execution_count": 161,
   "metadata": {},
   "outputs": [],
   "source": [
    "consumer_price_index_monthly_df['Measure'] = consumer_price_index_monthly_df['Measure'].replace({\n",
    "    'CPI_INDEX21': 'Index number (base year 2021 = 100)',\n",
    "    'CPI_INDEX14': 'Index number (base year 2014 = 100)',\n",
    "    'CPI_ANNCHG': 'Annual Change (%)(base year 2014 = 100)',\n",
    "    'CPI_ANNCHG21': 'Annual Change (%)(base year 2021 = 100)',\n",
    "    'CPI_MTHCHG': 'Monthly change (%) (base year 2014 =100)',\n",
    "    'CPI_MTHCHG21': 'Monthly change (%) (base year 2021 =100)'\n",
    "})"
   ]
  },
  {
   "cell_type": "code",
   "execution_count": 162,
   "metadata": {},
   "outputs": [],
   "source": [
    "consumer_price_index_monthly_df['Unit of Measure'] = consumer_price_index_monthly_df['Unit of Measure'].replace({\n",
    "    'INDX': 'Index',\n",
    "    'PERCENT': 'Percentage'\n",
    "})"
   ]
  },
  {
   "cell_type": "code",
   "execution_count": 163,
   "metadata": {},
   "outputs": [],
   "source": [
    "consumer_price_index_monthly_df['CPI Division'] = consumer_price_index_monthly_df['CPI Division'].replace({\n",
    "    'ALL': 'All Items',\n",
    "    'FNB': 'Food and Beverages',\n",
    "    'TOB': 'Tobacco',\n",
    "    'TEX': 'Textiles, Clothing and Footwear',\n",
    "    'HOU': 'Housing, Water, Electricity, Gas',\n",
    "    'FUR': 'Furniture and Household Goods',\n",
    "    'MED': 'Medical Care',\n",
    "    'TRN': 'Transportation',\n",
    "    'COM': 'Communications',\n",
    "    'REC': 'Recreation and Culture',\n",
    "    'EDU': 'Education',\n",
    "    'RES': 'Restaurants and Hotels',\n",
    "    'MIS': 'Miscellaneous Goods and Services'\n",
    "})\n"
   ]
  },
  {
   "cell_type": "code",
   "execution_count": 164,
   "metadata": {},
   "outputs": [],
   "source": [
    "# consumer_price_index_monthly_df.to_csv('Cleaned Datasets\\\\Consumer Price Index\\\\Consumer_Price_Index_Monthly.csv', index=False)"
   ]
  },
  {
   "cell_type": "markdown",
   "metadata": {},
   "source": [
    "# Consumer Price Quarterly"
   ]
  },
  {
   "cell_type": "markdown",
   "metadata": {},
   "source": [
    "## Data Understanding"
   ]
  },
  {
   "cell_type": "code",
   "execution_count": 165,
   "metadata": {},
   "outputs": [
    {
     "data": {
      "text/html": [
       "<div>\n",
       "<style scoped>\n",
       "    .dataframe tbody tr th:only-of-type {\n",
       "        vertical-align: middle;\n",
       "    }\n",
       "\n",
       "    .dataframe tbody tr th {\n",
       "        vertical-align: top;\n",
       "    }\n",
       "\n",
       "    .dataframe thead th {\n",
       "        text-align: right;\n",
       "    }\n",
       "</style>\n",
       "<table border=\"1\" class=\"dataframe\">\n",
       "  <thead>\n",
       "    <tr style=\"text-align: right;\">\n",
       "      <th></th>\n",
       "      <th>DATAFLOW</th>\n",
       "      <th>MEASURE</th>\n",
       "      <th>UNIT_MEASURE</th>\n",
       "      <th>REF_AREA</th>\n",
       "      <th>FREQ</th>\n",
       "      <th>CPI_DIV</th>\n",
       "      <th>SOURCE_DETAIL</th>\n",
       "      <th>TIME_PERIOD</th>\n",
       "      <th>OBS_VALUE</th>\n",
       "      <th>DECIMALS</th>\n",
       "      <th>OBS_STATUS</th>\n",
       "      <th>UNIT_MULT</th>\n",
       "    </tr>\n",
       "  </thead>\n",
       "  <tbody>\n",
       "    <tr>\n",
       "      <th>0</th>\n",
       "      <td>FCSA:DF_CPI_Q(3.2.0)</td>\n",
       "      <td>CPI_QCHNG</td>\n",
       "      <td>PERCENT</td>\n",
       "      <td>AE</td>\n",
       "      <td>Q</td>\n",
       "      <td>HOU</td>\n",
       "      <td>FCSA</td>\n",
       "      <td>2022-Q1</td>\n",
       "      <td>-1.851788</td>\n",
       "      <td>2</td>\n",
       "      <td>NaN</td>\n",
       "      <td>NaN</td>\n",
       "    </tr>\n",
       "    <tr>\n",
       "      <th>1</th>\n",
       "      <td>FCSA:DF_CPI_Q(3.2.0)</td>\n",
       "      <td>CPI_QCHNG</td>\n",
       "      <td>PERCENT</td>\n",
       "      <td>AE</td>\n",
       "      <td>Q</td>\n",
       "      <td>HOU</td>\n",
       "      <td>FCSA</td>\n",
       "      <td>2022-Q2</td>\n",
       "      <td>-1.001258</td>\n",
       "      <td>2</td>\n",
       "      <td>NaN</td>\n",
       "      <td>NaN</td>\n",
       "    </tr>\n",
       "    <tr>\n",
       "      <th>2</th>\n",
       "      <td>FCSA:DF_CPI_Q(3.2.0)</td>\n",
       "      <td>CPI_QCHNG</td>\n",
       "      <td>PERCENT</td>\n",
       "      <td>AE</td>\n",
       "      <td>Q</td>\n",
       "      <td>HOU</td>\n",
       "      <td>FCSA</td>\n",
       "      <td>2022-Q3</td>\n",
       "      <td>0.119038</td>\n",
       "      <td>2</td>\n",
       "      <td>NaN</td>\n",
       "      <td>NaN</td>\n",
       "    </tr>\n",
       "    <tr>\n",
       "      <th>3</th>\n",
       "      <td>FCSA:DF_CPI_Q(3.2.0)</td>\n",
       "      <td>CPI_QCHNG</td>\n",
       "      <td>PERCENT</td>\n",
       "      <td>AE</td>\n",
       "      <td>Q</td>\n",
       "      <td>HOU</td>\n",
       "      <td>FCSA</td>\n",
       "      <td>2022-Q4</td>\n",
       "      <td>1.605925</td>\n",
       "      <td>2</td>\n",
       "      <td>NaN</td>\n",
       "      <td>NaN</td>\n",
       "    </tr>\n",
       "    <tr>\n",
       "      <th>4</th>\n",
       "      <td>FCSA:DF_CPI_Q(3.2.0)</td>\n",
       "      <td>CPI_QCHNG</td>\n",
       "      <td>PERCENT</td>\n",
       "      <td>AE</td>\n",
       "      <td>Q</td>\n",
       "      <td>HOU</td>\n",
       "      <td>FCSA</td>\n",
       "      <td>2023-Q1</td>\n",
       "      <td>2.451617</td>\n",
       "      <td>2</td>\n",
       "      <td>NaN</td>\n",
       "      <td>NaN</td>\n",
       "    </tr>\n",
       "  </tbody>\n",
       "</table>\n",
       "</div>"
      ],
      "text/plain": [
       "               DATAFLOW    MEASURE UNIT_MEASURE REF_AREA FREQ CPI_DIV  \\\n",
       "0  FCSA:DF_CPI_Q(3.2.0)  CPI_QCHNG      PERCENT       AE    Q     HOU   \n",
       "1  FCSA:DF_CPI_Q(3.2.0)  CPI_QCHNG      PERCENT       AE    Q     HOU   \n",
       "2  FCSA:DF_CPI_Q(3.2.0)  CPI_QCHNG      PERCENT       AE    Q     HOU   \n",
       "3  FCSA:DF_CPI_Q(3.2.0)  CPI_QCHNG      PERCENT       AE    Q     HOU   \n",
       "4  FCSA:DF_CPI_Q(3.2.0)  CPI_QCHNG      PERCENT       AE    Q     HOU   \n",
       "\n",
       "  SOURCE_DETAIL TIME_PERIOD  OBS_VALUE  DECIMALS  OBS_STATUS  UNIT_MULT  \n",
       "0          FCSA     2022-Q1  -1.851788         2         NaN        NaN  \n",
       "1          FCSA     2022-Q2  -1.001258         2         NaN        NaN  \n",
       "2          FCSA     2022-Q3   0.119038         2         NaN        NaN  \n",
       "3          FCSA     2022-Q4   1.605925         2         NaN        NaN  \n",
       "4          FCSA     2023-Q1   2.451617         2         NaN        NaN  "
      ]
     },
     "execution_count": 165,
     "metadata": {},
     "output_type": "execute_result"
    }
   ],
   "source": [
    "consumer_price_index_quarterly_df.head()"
   ]
  },
  {
   "cell_type": "code",
   "execution_count": 166,
   "metadata": {},
   "outputs": [
    {
     "name": "stdout",
     "output_type": "stream",
     "text": [
      "<class 'pandas.core.frame.DataFrame'>\n",
      "RangeIndex: 112 entries, 0 to 111\n",
      "Data columns (total 12 columns):\n",
      " #   Column         Non-Null Count  Dtype  \n",
      "---  ------         --------------  -----  \n",
      " 0   DATAFLOW       112 non-null    object \n",
      " 1   MEASURE        112 non-null    object \n",
      " 2   UNIT_MEASURE   112 non-null    object \n",
      " 3   REF_AREA       112 non-null    object \n",
      " 4   FREQ           112 non-null    object \n",
      " 5   CPI_DIV        112 non-null    object \n",
      " 6   SOURCE_DETAIL  112 non-null    object \n",
      " 7   TIME_PERIOD    112 non-null    object \n",
      " 8   OBS_VALUE      112 non-null    float64\n",
      " 9   DECIMALS       112 non-null    int64  \n",
      " 10  OBS_STATUS     0 non-null      float64\n",
      " 11  UNIT_MULT      0 non-null      float64\n",
      "dtypes: float64(3), int64(1), object(8)\n",
      "memory usage: 10.6+ KB\n"
     ]
    }
   ],
   "source": [
    "consumer_price_index_quarterly_df.info()"
   ]
  },
  {
   "cell_type": "code",
   "execution_count": 167,
   "metadata": {},
   "outputs": [
    {
     "name": "stdout",
     "output_type": "stream",
     "text": [
      "DATAFLOW                      1\n",
      "MEASURE                       1\n",
      "UNIT_MEASURE                  1\n",
      "REF_AREA                      1\n",
      "FREQ                          1\n",
      "CPI_DIV                       14\n",
      "SOURCE_DETAIL                 1\n",
      "TIME_PERIOD                   8\n",
      "OBS_VALUE                     112\n",
      "DECIMALS                      1\n",
      "OBS_STATUS                    0\n",
      "UNIT_MULT                     0\n"
     ]
    }
   ],
   "source": [
    "for column in consumer_price_index_quarterly_df.columns:\n",
    "    unique_values = consumer_price_index_quarterly_df[column].nunique()\n",
    "    print(\"{:<30}{}\".format(column, unique_values))"
   ]
  },
  {
   "cell_type": "code",
   "execution_count": 168,
   "metadata": {},
   "outputs": [
    {
     "name": "stdout",
     "output_type": "stream",
     "text": [
      "DATAFLOW                      DATAFLOW\n",
      "FCSA:DF_CPI_Q(3.2.0)    112\n",
      "Name: count, dtype: int64\n",
      "MEASURE                       MEASURE\n",
      "CPI_QCHNG    112\n",
      "Name: count, dtype: int64\n",
      "UNIT_MEASURE                  UNIT_MEASURE\n",
      "PERCENT    112\n",
      "Name: count, dtype: int64\n",
      "REF_AREA                      REF_AREA\n",
      "AE    112\n",
      "Name: count, dtype: int64\n",
      "FREQ                          FREQ\n",
      "Q    112\n",
      "Name: count, dtype: int64\n",
      "CPI_DIV                       CPI_DIV\n",
      "HOU    8\n",
      "RES    8\n",
      "FNB    8\n",
      "EDU    8\n",
      "COM    8\n",
      "REC    8\n",
      "ALL    8\n",
      "FUR    8\n",
      "MIS    8\n",
      "TRN    8\n",
      "TOB    8\n",
      "INS    8\n",
      "MED    8\n",
      "TEX    8\n",
      "Name: count, dtype: int64\n",
      "SOURCE_DETAIL                 SOURCE_DETAIL\n",
      "FCSA    112\n",
      "Name: count, dtype: int64\n",
      "TIME_PERIOD                   TIME_PERIOD\n",
      "2022-Q1    14\n",
      "2022-Q2    14\n",
      "2022-Q3    14\n",
      "2022-Q4    14\n",
      "2023-Q1    14\n",
      "2023-Q2    14\n",
      "2023-Q3    14\n",
      "2023-Q4    14\n",
      "Name: count, dtype: int64\n",
      "OBS_VALUE                     OBS_VALUE\n",
      "-1.851788    1\n",
      "-1.001258    1\n",
      "-0.776307    1\n",
      " 0.507918    1\n",
      " 1.980920    1\n",
      "            ..\n",
      " 0.598787    1\n",
      " 0.786102    1\n",
      " 2.236188    1\n",
      " 1.386841    1\n",
      " 1.252795    1\n",
      "Name: count, Length: 112, dtype: int64\n",
      "DECIMALS                      DECIMALS\n",
      "2    112\n",
      "Name: count, dtype: int64\n",
      "OBS_STATUS                    Series([], Name: count, dtype: int64)\n",
      "UNIT_MULT                     Series([], Name: count, dtype: int64)\n"
     ]
    }
   ],
   "source": [
    "for column in consumer_price_index_quarterly_df.columns:\n",
    "    unique_values = consumer_price_index_quarterly_df[column].value_counts()\n",
    "    print(\"{:<30}{}\".format(column, unique_values))"
   ]
  },
  {
   "cell_type": "code",
   "execution_count": 169,
   "metadata": {},
   "outputs": [
    {
     "data": {
      "text/plain": [
       "0"
      ]
     },
     "execution_count": 169,
     "metadata": {},
     "output_type": "execute_result"
    }
   ],
   "source": [
    "consumer_price_index_quarterly_df.duplicated().sum()"
   ]
  },
  {
   "cell_type": "code",
   "execution_count": 170,
   "metadata": {},
   "outputs": [
    {
     "data": {
      "text/plain": [
       "DATAFLOW           0\n",
       "MEASURE            0\n",
       "UNIT_MEASURE       0\n",
       "REF_AREA           0\n",
       "FREQ               0\n",
       "CPI_DIV            0\n",
       "SOURCE_DETAIL      0\n",
       "TIME_PERIOD        0\n",
       "OBS_VALUE          0\n",
       "DECIMALS           0\n",
       "OBS_STATUS       112\n",
       "UNIT_MULT        112\n",
       "dtype: int64"
      ]
     },
     "execution_count": 170,
     "metadata": {},
     "output_type": "execute_result"
    }
   ],
   "source": [
    "consumer_price_index_quarterly_df.isnull().sum()"
   ]
  },
  {
   "cell_type": "code",
   "execution_count": 171,
   "metadata": {},
   "outputs": [
    {
     "data": {
      "text/plain": [
       "array([[<Axes: title={'center': 'OBS_VALUE'}>,\n",
       "        <Axes: title={'center': 'DECIMALS'}>],\n",
       "       [<Axes: title={'center': 'OBS_STATUS'}>,\n",
       "        <Axes: title={'center': 'UNIT_MULT'}>]], dtype=object)"
      ]
     },
     "execution_count": 171,
     "metadata": {},
     "output_type": "execute_result"
    },
    {
     "data": {
      "image/png": "[encoded data removed]",
      "text/plain": [
       "<Figure size 1000x1000 with 4 Axes>"
      ]
     },
     "metadata": {},
     "output_type": "display_data"
    }
   ],
   "source": [
    "consumer_price_index_quarterly_df.hist(figsize=(10, 10))"
   ]
  },
  {
   "cell_type": "markdown",
   "metadata": {},
   "source": [
    "## Data Cleaning"
   ]
  },
  {
   "cell_type": "code",
   "execution_count": 172,
   "metadata": {},
   "outputs": [],
   "source": [
    "consumer_price_index_quarterly_df.drop(columns=['OBS_STATUS', 'UNIT_MULT'], inplace = True)"
   ]
  },
  {
   "cell_type": "code",
   "execution_count": 173,
   "metadata": {},
   "outputs": [],
   "source": [
    "cols_to_drop = [col for col in consumer_price_index_quarterly_df.columns if consumer_price_index_quarterly_df[col].nunique() == 1]\n",
    "consumer_price_index_quarterly_df = consumer_price_index_quarterly_df.drop(columns=cols_to_drop)"
   ]
  },
  {
   "cell_type": "code",
   "execution_count": 174,
   "metadata": {},
   "outputs": [],
   "source": [
    "consumer_price_index_quarterly_df.rename(columns={'CPI_DIV': 'CPI Division','TIME_PERIOD': 'Time Period', 'OBS_VALUE': 'Value (%)'}, inplace=True)"
   ]
  },
  {
   "cell_type": "code",
   "execution_count": 175,
   "metadata": {},
   "outputs": [],
   "source": [
    "consumer_price_index_quarterly_df['CPI Division'] = consumer_price_index_quarterly_df['CPI Division'].replace({\n",
    "    'ALL': 'All Items',\n",
    "    'FNB': 'Food and Beverages',\n",
    "    'TOB': 'Tobacco',\n",
    "    'TEX': 'Textiles, Clothing and Footwear',\n",
    "    'HOU': 'Housing, Water, Electricity, Gas',\n",
    "    'FUR': 'Furniture and Household Goods',\n",
    "    'MED': 'Medical Care',\n",
    "    'TRN': 'Transportation',\n",
    "    'COM': 'Communications',\n",
    "    'REC': 'Recreation and Culture',\n",
    "    'EDU': 'Education',\n",
    "    'RES': 'Restaurants and Hotels',\n",
    "    'MIS': 'Miscellaneous Goods and Services'\n",
    "})\n"
   ]
  },
  {
   "cell_type": "code",
   "execution_count": null,
   "metadata": {},
   "outputs": [],
   "source": [
    "# consumer_price_index_quarterly_df.to_csv('Cleaned Datasets\\\\Consumer Price Index\\\\Consumer_Price_Index_Quarterly.csv', index=False)"
   ]
  },
  {
   "cell_type": "markdown",
   "metadata": {},
   "source": [
    "# Pumping data into Mongodb"
   ]
  },
  {
   "cell_type": "code",
   "execution_count": 177,
   "metadata": {},
   "outputs": [
    {
     "name": "stdout",
     "output_type": "stream",
     "text": [
      "Data pumped into MongoDB successfully!\n"
     ]
    }
   ],
   "source": [
    "# from pymongo import MongoClient\n",
    "# from dotenv import load_dotenv\n",
    "# import os\n",
    "\n",
    "# # Connect to MongoDB\n",
    "# load_dotenv()\n",
    "\n",
    "# client = MongoClient(os.environ['MONGODB_URI_1'])  # Uses the connection string from your .env file\n",
    "# db = client['tourism_db']\n",
    "\n",
    "# # Convert DataFrame to dictionary\n",
    "# consumer_price_index_annually_df = consumer_price_index_annually_df.to_dict('records')\n",
    "# consumer_price_index_monthly_df = consumer_price_index_monthly_df.to_dict('records')\n",
    "# consumer_price_index_quarterly_df = consumer_price_index_quarterly_df.to_dict('records')\n",
    "\n",
    "# # Insert into MongoDB collections\n",
    "# db['consumer_price_index_annually_df'].insert_many(consumer_price_index_annually_df)\n",
    "# db['consumer_price_index_monthly_df'].insert_many(consumer_price_index_monthly_df)\n",
    "# db['consumer_price_index_quarterly_df'].insert_many(consumer_price_index_quarterly_df)\n",
    "\n",
    "# print(\"Data pumped into MongoDB successfully!\")"
   ]
  }
 ],
 "metadata": {
  "kernelspec": {
   "display_name": "Python 3",
   "language": "python",
   "name": "python3"
  },
  "language_info": {
   "codemirror_mode": {
    "name": "ipython",
    "version": 3
   },
   "file_extension": ".py",
   "mimetype": "text/x-python",
   "name": "python",
   "nbconvert_exporter": "python",
   "pygments_lexer": "ipython3",
   "version": "3.12.4"
  }
 },
 "nbformat": 4,
 "nbformat_minor": 2
}
