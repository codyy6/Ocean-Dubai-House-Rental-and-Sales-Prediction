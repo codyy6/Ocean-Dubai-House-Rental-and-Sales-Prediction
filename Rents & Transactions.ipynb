{
 "cells": [
  {
   "cell_type": "code",
   "execution_count": 13,
   "metadata": {},
   "outputs": [],
   "source": [
    "import pandas as pd\n",
    "import numpy as np\n",
    "import seaborn as sns\n",
    "from scipy import stats\n",
    "\n",
    "import matplotlib.pyplot as plt"
   ]
  },
  {
   "cell_type": "code",
   "execution_count": null,
   "metadata": {},
   "outputs": [
    {
     "name": "stderr",
     "output_type": "stream",
     "text": [
      "C:\\Users\\Cody\\AppData\\Local\\Temp\\ipykernel_244\\3003166614.py:1: DtypeWarning: Columns (14,15,21,22) have mixed types. Specify dtype option on import or set low_memory=False.\n",
      "  transactions_df = pd.read_csv('Datasets\\\\Rents & Transactions\\\\transactions.csv', sep=';', on_bad_lines='skip')\n"
     ]
    }
   ],
   "source": [
    "transactions_df = pd.read_csv('Datasets\\\\Rents & Transactions\\\\transactions.csv', sep=';', on_bad_lines='skip')"
   ]
  },
  {
   "cell_type": "code",
   "execution_count": 17,
   "metadata": {},
   "outputs": [
    {
     "name": "stdout",
     "output_type": "stream",
     "text": [
      "<class 'pandas.core.frame.DataFrame'>\n",
      "RangeIndex: 995975 entries, 0 to 995974\n",
      "Data columns (total 23 columns):\n",
      " #   Column                   Non-Null Count   Dtype  \n",
      "---  ------                   --------------   -----  \n",
      " 0   Transaction Number       995975 non-null  object \n",
      " 1   Transaction Date         995975 non-null  object \n",
      " 2   Property ID              995975 non-null  int64  \n",
      " 3   Transaction Type         995975 non-null  object \n",
      " 4   Transaction sub type     995975 non-null  object \n",
      " 5   Registration type        995975 non-null  object \n",
      " 6   Is Free Hold?            995975 non-null  object \n",
      " 7   Usage                    995975 non-null  object \n",
      " 8   Area                     995975 non-null  object \n",
      " 9   Property Type            995975 non-null  object \n",
      " 10  Property Sub Type        973723 non-null  object \n",
      " 11  Amount                   995975 non-null  float64\n",
      " 12  Transaction Size (sq.m)  870248 non-null  float64\n",
      " 13  Property Size (sq.m)     995972 non-null  float64\n",
      " 14  Room(s)                  758158 non-null  object \n",
      " 15  Parking                  502633 non-null  object \n",
      " 16  Nearest Metro            779839 non-null  object \n",
      " 17  Nearest Mall             775914 non-null  object \n",
      " 18  Nearest Landmark         892606 non-null  object \n",
      " 19  No. of Buyer             995787 non-null  float64\n",
      " 20  No. of Seller            995787 non-null  float64\n",
      " 21  Master Project           289 non-null     object \n",
      " 22  Project                  588688 non-null  object \n",
      "dtypes: float64(5), int64(1), object(17)\n",
      "memory usage: 174.8+ MB\n"
     ]
    }
   ],
   "source": [
    "transactions_df.info()"
   ]
  }
 ],
 "metadata": {
  "kernelspec": {
   "display_name": "Python 3",
   "language": "python",
   "name": "python3"
  },
  "language_info": {
   "codemirror_mode": {
    "name": "ipython",
    "version": 3
   },
   "file_extension": ".py",
   "mimetype": "text/x-python",
   "name": "python",
   "nbconvert_exporter": "python",
   "pygments_lexer": "ipython3",
   "version": "3.12.4"
  }
 },
 "nbformat": 4,
 "nbformat_minor": 2
}
