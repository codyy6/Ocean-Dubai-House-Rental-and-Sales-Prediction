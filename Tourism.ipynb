{
 "cells": [
  {
   "cell_type": "code",
   "execution_count": 2,
   "metadata": {},
   "outputs": [],
   "source": [
    "import pandas as pd\n",
    "import numpy as np\n",
    "import seaborn as sns\n",
    "from scipy import stats\n",
    "\n",
    "import matplotlib.pyplot as plt"
   ]
  },
  {
   "cell_type": "code",
   "execution_count": 3,
   "metadata": {},
   "outputs": [],
   "source": [
    "guests_by_hotel_type_by_region_df = pd.read_csv('Datasets\\\\Tourism\\\\Guests_by_Hotel_Type_by_Region.csv')\n",
    "hotel_establishments_and_rooms_by_rating_type_df = pd.read_csv('Datasets\\\\Tourism\\\\Hotel_Establishments_and_Rooms_by_Rating_Type.csv')\n",
    "hotel_establishments_main_indicators_df = pd.read_csv('Datasets\\\\Tourism\\\\Hotel_Establishments_Main_Indicators.csv')"
   ]
  },
  {
   "cell_type": "markdown",
   "metadata": {},
   "source": [
    "# Guests by Hotel Type by Region"
   ]
  },
  {
   "cell_type": "markdown",
   "metadata": {},
   "source": [
    "## Data Understanding"
   ]
  },
  {
   "cell_type": "code",
   "execution_count": 4,
   "metadata": {},
   "outputs": [
    {
     "data": {
      "text/plain": [
       "DATAFLOW           0\n",
       "MEASURE            0\n",
       "UNIT_MEASURE       0\n",
       "REF_AREA           0\n",
       "FREQ               0\n",
       "H_TYPE             0\n",
       "H_INDICATOR        0\n",
       "GUEST_REGION       0\n",
       "SOURCE_DETAIL      0\n",
       "TIME_PERIOD        0\n",
       "OBS_VALUE          0\n",
       "DECIMALS         664\n",
       "OBS_STATUS       664\n",
       "OBS_COMMENT      664\n",
       "UNIT_MULT        664\n",
       "dtype: int64"
      ]
     },
     "execution_count": 4,
     "metadata": {},
     "output_type": "execute_result"
    }
   ],
   "source": [
    "guests_by_hotel_type_by_region_df.isnull().sum()"
   ]
  },
  {
   "cell_type": "code",
   "execution_count": 5,
   "metadata": {},
   "outputs": [],
   "source": [
    "guests_by_hotel_type_by_region_df.drop_duplicates(inplace=True)"
   ]
  },
  {
   "cell_type": "code",
   "execution_count": null,
   "metadata": {},
   "outputs": [],
   "source": [
    "guests_by_hotel_type_by_region_df"
   ]
  }
 ],
 "metadata": {
  "kernelspec": {
   "display_name": "Python 3",
   "language": "python",
   "name": "python3"
  },
  "language_info": {
   "codemirror_mode": {
    "name": "ipython",
    "version": 3
   },
   "file_extension": ".py",
   "mimetype": "text/x-python",
   "name": "python",
   "nbconvert_exporter": "python",
   "pygments_lexer": "ipython3",
   "version": "3.12.4"
  }
 },
 "nbformat": 4,
 "nbformat_minor": 2
}
