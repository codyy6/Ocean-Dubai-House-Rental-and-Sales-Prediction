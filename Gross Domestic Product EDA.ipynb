{
 "cells": [
  {
   "cell_type": "code",
   "execution_count": null,
   "metadata": {},
   "outputs": [],
   "source": [
    "import pandas as pd\n",
    "import numpy as np\n",
    "import seaborn as sns\n",
    "from scipy import stats\n",
    "\n",
    "import matplotlib.pyplot as plt"
   ]
  },
  {
   "cell_type": "code",
   "execution_count": null,
   "metadata": {},
   "outputs": [],
   "source": [
    "gdp_quarterly_constant_prices_df = pd.read_csv('Datasets\\\\Gross Domestic Product\\\\GDP_Quarterly_Constant_Prices.csv')\n",
    "gdp_quarterly_current_prices_df = pd.read_csv('Datasets\\\\Gross Domestic Product\\\\GDP_Quarterly_Current_Prices.csv')"
   ]
  }
 ],
 "metadata": {
  "language_info": {
   "name": "python"
  }
 },
 "nbformat": 4,
 "nbformat_minor": 2
}
