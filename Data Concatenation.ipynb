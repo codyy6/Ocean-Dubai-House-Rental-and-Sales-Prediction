{
 "cells": [
  {
   "cell_type": "code",
   "execution_count": 2,
   "metadata": {},
   "outputs": [],
   "source": [
    "import pandas as pd"
   ]
  },
  {
   "cell_type": "code",
   "execution_count": 3,
   "metadata": {},
   "outputs": [],
   "source": [
    "# Sample DataFrames (replace with your actual data)\n",
    "cpi_annual = pd.read_csv('Cleaned Datasets\\\\Consumer Price Index\\\\Consumer_Price_Index_Annually.csv')\n",
    "currency_strength_annual = pd.read_csv('Cleaned Datasets\\\\Currency Strength\\\\aed_to_usd_annual.csv')\n",
    "population_annual = pd.read_csv('Cleaned Datasets\\\\Population\\\\Population_Estimates_and_Growth_by_Gender.csv')\n",
    "rents_annual = pd.read_csv('Cleaned Datasets\\\\Rents & Transactions\\\\rents_annual.csv')\n",
    "transactions_annual = pd.read_csv('Cleaned Datasets\\\\Rents & Transactions\\\\transactions_annual.csv')\n",
    "guests_by_hotel_annual = pd.read_csv('Cleaned Datasets\\\\Tourism\\\\Guests_by_Hotel_Type_by_Region_Pivoted.csv')\n",
    "hotel_establishment_and_rooms_rating_annual = pd.read_csv('Cleaned Datasets\\\\Tourism\\\\Hotel_Establishments_and_Rooms_by_Rating_Type_Pivoted.csv')\n",
    "hotel_establishment_main_indicators_annual = pd.read_csv('Cleaned Datasets\\\\Tourism\\\\Hotel_Establishments_Main_Indicators_Pivoted.csv')\n",
    "world_development_indicator_annual = pd.read_csv('Cleaned Datasets\\\\World Development Indicators\\\\World_Development_Indicator_Pivoted.csv')"
   ]
  },
  {
   "cell_type": "markdown",
   "metadata": {},
   "source": [
    "# CPI on Rents"
   ]
  },
  {
   "cell_type": "code",
   "execution_count": 5,
   "metadata": {},
   "outputs": [
    {
     "name": "stdout",
     "output_type": "stream",
     "text": [
      "       Year  Version                Area  Is Free Hold? Property Type  \\\n",
      "0      1991      New           Jabal Ali      Free Hold          Unit   \n",
      "1      1993      New     Al Qusais First  Non Free Hold          Unit   \n",
      "2      1998      New      Al Saffa First  Non Free Hold          Unit   \n",
      "3      1998      New      Jumeirah First  Non Free Hold          Unit   \n",
      "4      2000      New             Al Wasl  Non Free Hold         Villa   \n",
      "...     ...      ...                 ...            ...           ...   \n",
      "50869  2027  Renewed         Al Murqabat  Non Free Hold          Unit   \n",
      "50870  2029  Renewed  Trade Center First  Non Free Hold          Unit   \n",
      "50871  2107      New            Al Raffa  Non Free Hold          Unit   \n",
      "50872  2108  Renewed            Al Raffa  Non Free Hold          Unit   \n",
      "50873  2109  Renewed            Al Raffa  Non Free Hold          Unit   \n",
      "\n",
      "      Property Sub Type                 Usage               Nearest Metro  \\\n",
      "0                  Flat           Residential               Harbour Tower   \n",
      "1                School  Educational facility       STADIUM Metro Station   \n",
      "2                School  Educational facility     Noor Bank Metro Station   \n",
      "3                School  Educational facility  Business Bay Metro Station   \n",
      "4                 Villa           Residential  Business Bay Metro Station   \n",
      "...                 ...                   ...                         ...   \n",
      "50869          Showroom            Commercial  Salah Al Din Metro Station   \n",
      "50870          Showroom            Commercial  Trade Centre Metro Station   \n",
      "50871              Flat           Residential     Al Fahidi Metro Station   \n",
      "50872              Flat           Residential     Al Fahidi Metro Station   \n",
      "50873              Flat           Residential     Al Fahidi Metro Station   \n",
      "\n",
      "             Nearest Mall              Nearest Landmark   Contract Amount  \\\n",
      "0      Ibn-e-Battuta Mall  Sports City Swimming Academy             28500   \n",
      "1      City Centre Mirdif   Dubai International Airport            500000   \n",
      "2              Dubai Mall                Downtown Dubai           3062900   \n",
      "3              Dubai Mall                  Burj Khalifa           6118000   \n",
      "4              Dubai Mall                  Burj Khalifa             90000   \n",
      "...                   ...                           ...               ...   \n",
      "50869          Dubai Mall   Dubai International Airport  2400000024000000   \n",
      "50870          Dubai Mall                  Burj Khalifa    66429006642900   \n",
      "50871          Dubai Mall                  Burj Khalifa             51000   \n",
      "50872          Dubai Mall                  Burj Khalifa             51000   \n",
      "50873          Dubai Mall                  Burj Khalifa             51000   \n",
      "\n",
      "        Annual Amount Property Size (sq.m)  Count  Open  High  Low  Close  \\\n",
      "0               28500                    0      1   NaN   NaN  NaN    NaN   \n",
      "1              500000                18801      1   NaN   NaN  NaN    NaN   \n",
      "2             3062900                41298      1   NaN   NaN  NaN    NaN   \n",
      "3             6118000                    0      1   NaN   NaN  NaN    NaN   \n",
      "4               90000                    0      1   NaN   NaN  NaN    NaN   \n",
      "...               ...                  ...    ...   ...   ...  ...    ...   \n",
      "50869  48000004800000             15671568      2   NaN   NaN  NaN    NaN   \n",
      "50870  11071501107150         518,96206,99      2   NaN   NaN  NaN    NaN   \n",
      "50871           51000                 3,57      1   NaN   NaN  NaN    NaN   \n",
      "50872        47076,92                 3,57      1   NaN   NaN  NaN    NaN   \n",
      "50873           51000                 3,57      1   NaN   NaN  NaN    NaN   \n",
      "\n",
      "       Adj Close  Return  \n",
      "0            NaN     NaN  \n",
      "1            NaN     NaN  \n",
      "2            NaN     NaN  \n",
      "3            NaN     NaN  \n",
      "4            NaN     NaN  \n",
      "...          ...     ...  \n",
      "50869        NaN     NaN  \n",
      "50870        NaN     NaN  \n",
      "50871        NaN     NaN  \n",
      "50872        NaN     NaN  \n",
      "50873        NaN     NaN  \n",
      "\n",
      "[50874 rows x 20 columns]\n"
     ]
    }
   ],
   "source": [
    "# Merge DataFrames using 'Time Period' as the key\n",
    "cpi_on_rents_df = pd.merge(rents_annual, currency_strength_annual,  left_on='Year', right_on='Year', how='outer', suffixes=('', '_currency'))\n",
    "\n",
    "\n",
    "# Drop duplicate 'Year' columns\n",
    "cpi_on_rents_df = cpi_on_rents_df.loc[:, ~cpi_on_rents_df.columns.duplicated()]\n",
    "\n",
    "# Print the merged DataFrame\n",
    "print(cpi_on_rents_df)"
   ]
  },
  {
   "cell_type": "code",
   "execution_count": 13,
   "metadata": {},
   "outputs": [],
   "source": [
    "cpi_on_rents_df.to_csv('cpi_on_rents.csv', index=False)"
   ]
  }
 ],
 "metadata": {
  "kernelspec": {
   "display_name": "Python 3",
   "language": "python",
   "name": "python3"
  },
  "language_info": {
   "codemirror_mode": {
    "name": "ipython",
    "version": 3
   },
   "file_extension": ".py",
   "mimetype": "text/x-python",
   "name": "python",
   "nbconvert_exporter": "python",
   "pygments_lexer": "ipython3",
   "version": "3.12.4"
  }
 },
 "nbformat": 4,
 "nbformat_minor": 2
}
