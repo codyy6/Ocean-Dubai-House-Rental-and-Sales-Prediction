{
 "cells": [
  {
   "cell_type": "code",
   "execution_count": null,
   "metadata": {},
   "outputs": [],
   "source": [
    "import pandas as pd\n",
    "import numpy as np\n",
    "import seaborn as sns\n",
    "from scipy import stats\n",
    "\n",
    "import matplotlib.pyplot as plt"
   ]
  },
  {
   "cell_type": "code",
   "execution_count": null,
   "metadata": {},
   "outputs": [],
   "source": [
    "population_estimates_and_growth_by_gender_df = pd.read_csv('Datasets\\\\Population\\\\Population_Estimates_and_Growth_by_Gender.csv')\n",
    "population_indicators_df = pd.read_csv('Datasets\\\\Population\\\\Population_Indicators.csv')"
   ]
  }
 ],
 "metadata": {
  "language_info": {
   "name": "python"
  }
 },
 "nbformat": 4,
 "nbformat_minor": 2
}
