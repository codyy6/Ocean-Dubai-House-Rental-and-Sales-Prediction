{
 "cells": [
  {
   "cell_type": "code",
   "execution_count": 36,
   "metadata": {},
   "outputs": [],
   "source": [
    "import pandas as pd\n",
    "import numpy as np\n",
    "import seaborn as sns\n",
    "from scipy import stats\n",
    "\n",
    "import matplotlib.pyplot as plt"
   ]
  },
  {
   "cell_type": "code",
   "execution_count": 37,
   "metadata": {},
   "outputs": [],
   "source": [
    "population_estimates_and_growth_by_gender_df = pd.read_csv('Datasets\\\\Population\\\\Population_Estimates_and_Growth_by_Gender.csv')\n",
    "population_indicators_df = pd.read_csv('Datasets\\\\Population\\\\Population_Indicators.csv')"
   ]
  },
  {
   "cell_type": "markdown",
   "metadata": {},
   "source": [
    "# Population Estimates and Growth by Gender"
   ]
  },
  {
   "cell_type": "markdown",
   "metadata": {},
   "source": [
    "## Data Understanding"
   ]
  },
  {
   "cell_type": "code",
   "execution_count": 38,
   "metadata": {},
   "outputs": [
    {
     "data": {
      "text/html": [
       "<div>\n",
       "<style scoped>\n",
       "    .dataframe tbody tr th:only-of-type {\n",
       "        vertical-align: middle;\n",
       "    }\n",
       "\n",
       "    .dataframe tbody tr th {\n",
       "        vertical-align: top;\n",
       "    }\n",
       "\n",
       "    .dataframe thead th {\n",
       "        text-align: right;\n",
       "    }\n",
       "</style>\n",
       "<table border=\"1\" class=\"dataframe\">\n",
       "  <thead>\n",
       "    <tr style=\"text-align: right;\">\n",
       "      <th></th>\n",
       "      <th>DATAFLOW</th>\n",
       "      <th>MEASURE</th>\n",
       "      <th>POP_IND</th>\n",
       "      <th>UNIT_MEASURE</th>\n",
       "      <th>REF_AREA</th>\n",
       "      <th>FREQ</th>\n",
       "      <th>GENDER</th>\n",
       "      <th>SOURCE_DETAIL</th>\n",
       "      <th>TIME_PERIOD</th>\n",
       "      <th>OBS_VALUE</th>\n",
       "      <th>DECIMALS</th>\n",
       "    </tr>\n",
       "  </thead>\n",
       "  <tbody>\n",
       "    <tr>\n",
       "      <th>0</th>\n",
       "      <td>FCSA:DF_POP(2.7.0)</td>\n",
       "      <td>POP</td>\n",
       "      <td>_Z</td>\n",
       "      <td>PS</td>\n",
       "      <td>AE</td>\n",
       "      <td>A</td>\n",
       "      <td>M</td>\n",
       "      <td>FCSC</td>\n",
       "      <td>1970</td>\n",
       "      <td>149195</td>\n",
       "      <td>NaN</td>\n",
       "    </tr>\n",
       "    <tr>\n",
       "      <th>1</th>\n",
       "      <td>FCSA:DF_POP(2.7.0)</td>\n",
       "      <td>POP</td>\n",
       "      <td>_Z</td>\n",
       "      <td>PS</td>\n",
       "      <td>AE</td>\n",
       "      <td>A</td>\n",
       "      <td>M</td>\n",
       "      <td>FCSC</td>\n",
       "      <td>1971</td>\n",
       "      <td>181473</td>\n",
       "      <td>NaN</td>\n",
       "    </tr>\n",
       "    <tr>\n",
       "      <th>2</th>\n",
       "      <td>FCSA:DF_POP(2.7.0)</td>\n",
       "      <td>POP</td>\n",
       "      <td>_Z</td>\n",
       "      <td>PS</td>\n",
       "      <td>AE</td>\n",
       "      <td>A</td>\n",
       "      <td>M</td>\n",
       "      <td>FCSC</td>\n",
       "      <td>1972</td>\n",
       "      <td>221774</td>\n",
       "      <td>NaN</td>\n",
       "    </tr>\n",
       "    <tr>\n",
       "      <th>3</th>\n",
       "      <td>FCSA:DF_POP(2.7.0)</td>\n",
       "      <td>POP</td>\n",
       "      <td>_Z</td>\n",
       "      <td>PS</td>\n",
       "      <td>AE</td>\n",
       "      <td>A</td>\n",
       "      <td>M</td>\n",
       "      <td>FCSC</td>\n",
       "      <td>1973</td>\n",
       "      <td>268398</td>\n",
       "      <td>NaN</td>\n",
       "    </tr>\n",
       "    <tr>\n",
       "      <th>4</th>\n",
       "      <td>FCSA:DF_POP(2.7.0)</td>\n",
       "      <td>POP</td>\n",
       "      <td>_Z</td>\n",
       "      <td>PS</td>\n",
       "      <td>AE</td>\n",
       "      <td>A</td>\n",
       "      <td>M</td>\n",
       "      <td>FCSC</td>\n",
       "      <td>1974</td>\n",
       "      <td>322544</td>\n",
       "      <td>NaN</td>\n",
       "    </tr>\n",
       "  </tbody>\n",
       "</table>\n",
       "</div>"
      ],
      "text/plain": [
       "             DATAFLOW MEASURE POP_IND UNIT_MEASURE REF_AREA FREQ GENDER  \\\n",
       "0  FCSA:DF_POP(2.7.0)     POP      _Z           PS       AE    A      M   \n",
       "1  FCSA:DF_POP(2.7.0)     POP      _Z           PS       AE    A      M   \n",
       "2  FCSA:DF_POP(2.7.0)     POP      _Z           PS       AE    A      M   \n",
       "3  FCSA:DF_POP(2.7.0)     POP      _Z           PS       AE    A      M   \n",
       "4  FCSA:DF_POP(2.7.0)     POP      _Z           PS       AE    A      M   \n",
       "\n",
       "  SOURCE_DETAIL  TIME_PERIOD  OBS_VALUE  DECIMALS  \n",
       "0          FCSC         1970     149195       NaN  \n",
       "1          FCSC         1971     181473       NaN  \n",
       "2          FCSC         1972     221774       NaN  \n",
       "3          FCSC         1973     268398       NaN  \n",
       "4          FCSC         1974     322544       NaN  "
      ]
     },
     "execution_count": 38,
     "metadata": {},
     "output_type": "execute_result"
    }
   ],
   "source": [
    "population_estimates_and_growth_by_gender_df.head()"
   ]
  },
  {
   "cell_type": "code",
   "execution_count": 39,
   "metadata": {},
   "outputs": [
    {
     "name": "stdout",
     "output_type": "stream",
     "text": [
      "<class 'pandas.core.frame.DataFrame'>\n",
      "RangeIndex: 162 entries, 0 to 161\n",
      "Data columns (total 11 columns):\n",
      " #   Column         Non-Null Count  Dtype  \n",
      "---  ------         --------------  -----  \n",
      " 0   DATAFLOW       162 non-null    object \n",
      " 1   MEASURE        162 non-null    object \n",
      " 2   POP_IND        162 non-null    object \n",
      " 3   UNIT_MEASURE   162 non-null    object \n",
      " 4   REF_AREA       162 non-null    object \n",
      " 5   FREQ           162 non-null    object \n",
      " 6   GENDER         162 non-null    object \n",
      " 7   SOURCE_DETAIL  162 non-null    object \n",
      " 8   TIME_PERIOD    162 non-null    int64  \n",
      " 9   OBS_VALUE      162 non-null    int64  \n",
      " 10  DECIMALS       0 non-null      float64\n",
      "dtypes: float64(1), int64(2), object(8)\n",
      "memory usage: 14.1+ KB\n"
     ]
    }
   ],
   "source": [
    "population_estimates_and_growth_by_gender_df.info()"
   ]
  },
  {
   "cell_type": "code",
   "execution_count": 40,
   "metadata": {},
   "outputs": [
    {
     "name": "stdout",
     "output_type": "stream",
     "text": [
      "DATAFLOW                      1\n",
      "MEASURE                       1\n",
      "POP_IND                       1\n",
      "UNIT_MEASURE                  1\n",
      "REF_AREA                      1\n",
      "FREQ                          1\n",
      "GENDER                        3\n",
      "SOURCE_DETAIL                 1\n",
      "TIME_PERIOD                   54\n",
      "OBS_VALUE                     162\n",
      "DECIMALS                      0\n"
     ]
    }
   ],
   "source": [
    "for column in population_estimates_and_growth_by_gender_df.columns:\n",
    "    unique_values = population_estimates_and_growth_by_gender_df[column].nunique()\n",
    "    print(\"{:<30}{}\".format(column, unique_values))"
   ]
  },
  {
   "cell_type": "code",
   "execution_count": 41,
   "metadata": {},
   "outputs": [
    {
     "name": "stdout",
     "output_type": "stream",
     "text": [
      "DATAFLOW                      DATAFLOW\n",
      "FCSA:DF_POP(2.7.0)    162\n",
      "Name: count, dtype: int64\n",
      "MEASURE                       MEASURE\n",
      "POP    162\n",
      "Name: count, dtype: int64\n",
      "POP_IND                       POP_IND\n",
      "_Z    162\n",
      "Name: count, dtype: int64\n",
      "UNIT_MEASURE                  UNIT_MEASURE\n",
      "PS    162\n",
      "Name: count, dtype: int64\n",
      "REF_AREA                      REF_AREA\n",
      "AE    162\n",
      "Name: count, dtype: int64\n",
      "FREQ                          FREQ\n",
      "A    162\n",
      "Name: count, dtype: int64\n",
      "GENDER                        GENDER\n",
      "M     54\n",
      "F     54\n",
      "_T    54\n",
      "Name: count, dtype: int64\n",
      "SOURCE_DETAIL                 SOURCE_DETAIL\n",
      "FCSC    162\n",
      "Name: count, dtype: int64\n",
      "TIME_PERIOD                   TIME_PERIOD\n",
      "1970    3\n",
      "2010    3\n",
      "1999    3\n",
      "2000    3\n",
      "2001    3\n",
      "2002    3\n",
      "2003    3\n",
      "2004    3\n",
      "2005    3\n",
      "2006    3\n",
      "2007    3\n",
      "2008    3\n",
      "2009    3\n",
      "2011    3\n",
      "1971    3\n",
      "2012    3\n",
      "2013    3\n",
      "2014    3\n",
      "2015    3\n",
      "2016    3\n",
      "2017    3\n",
      "2018    3\n",
      "2019    3\n",
      "2020    3\n",
      "2021    3\n",
      "2022    3\n",
      "1998    3\n",
      "1997    3\n",
      "1996    3\n",
      "1995    3\n",
      "1972    3\n",
      "1973    3\n",
      "1974    3\n",
      "1975    3\n",
      "1976    3\n",
      "1977    3\n",
      "1978    3\n",
      "1979    3\n",
      "1980    3\n",
      "1981    3\n",
      "1982    3\n",
      "1983    3\n",
      "1984    3\n",
      "1985    3\n",
      "1986    3\n",
      "1987    3\n",
      "1988    3\n",
      "1989    3\n",
      "1990    3\n",
      "1991    3\n",
      "1992    3\n",
      "1993    3\n",
      "1994    3\n",
      "2023    3\n",
      "Name: count, dtype: int64\n",
      "OBS_VALUE                     OBS_VALUE\n",
      "149195      1\n",
      "1226929     1\n",
      "3373082     1\n",
      "3304324     1\n",
      "3535697     1\n",
      "           ..\n",
      "97178       1\n",
      "110529      1\n",
      "127016      1\n",
      "146708      1\n",
      "10678556    1\n",
      "Name: count, Length: 162, dtype: int64\n",
      "DECIMALS                      Series([], Name: count, dtype: int64)\n"
     ]
    }
   ],
   "source": [
    "for column in population_estimates_and_growth_by_gender_df.columns:\n",
    "    unique_values = population_estimates_and_growth_by_gender_df[column].value_counts()\n",
    "    print(\"{:<30}{}\".format(column, unique_values))"
   ]
  },
  {
   "cell_type": "code",
   "execution_count": 42,
   "metadata": {},
   "outputs": [
    {
     "data": {
      "text/plain": [
       "0"
      ]
     },
     "execution_count": 42,
     "metadata": {},
     "output_type": "execute_result"
    }
   ],
   "source": [
    "population_estimates_and_growth_by_gender_df.duplicated().sum()"
   ]
  },
  {
   "cell_type": "code",
   "execution_count": 43,
   "metadata": {},
   "outputs": [
    {
     "data": {
      "text/plain": [
       "DATAFLOW           0\n",
       "MEASURE            0\n",
       "POP_IND            0\n",
       "UNIT_MEASURE       0\n",
       "REF_AREA           0\n",
       "FREQ               0\n",
       "GENDER             0\n",
       "SOURCE_DETAIL      0\n",
       "TIME_PERIOD        0\n",
       "OBS_VALUE          0\n",
       "DECIMALS         162\n",
       "dtype: int64"
      ]
     },
     "execution_count": 43,
     "metadata": {},
     "output_type": "execute_result"
    }
   ],
   "source": [
    "population_estimates_and_growth_by_gender_df.isnull().sum()"
   ]
  },
  {
   "cell_type": "code",
   "execution_count": 44,
   "metadata": {},
   "outputs": [
    {
     "data": {
      "text/plain": [
       "array([[<Axes: title={'center': 'TIME_PERIOD'}>,\n",
       "        <Axes: title={'center': 'OBS_VALUE'}>],\n",
       "       [<Axes: title={'center': 'DECIMALS'}>, <Axes: >]], dtype=object)"
      ]
     },
     "execution_count": 44,
     "metadata": {},
     "output_type": "execute_result"
    },
    {
     "data": {
      "image/png": "[encoded data removed]",
      "text/plain": [
       "<Figure size 1000x1000 with 4 Axes>"
      ]
     },
     "metadata": {},
     "output_type": "display_data"
    }
   ],
   "source": [
    "population_estimates_and_growth_by_gender_df.hist(figsize=(10, 10))"
   ]
  },
  {
   "cell_type": "markdown",
   "metadata": {},
   "source": [
    "## Data Cleaning"
   ]
  },
  {
   "cell_type": "code",
   "execution_count": 45,
   "metadata": {},
   "outputs": [],
   "source": [
    "population_estimates_and_growth_by_gender_df.drop(columns=['DECIMALS'], inplace = True)"
   ]
  },
  {
   "cell_type": "code",
   "execution_count": 46,
   "metadata": {},
   "outputs": [],
   "source": [
    "cols_to_drop = [col for col in population_estimates_and_growth_by_gender_df.columns if population_estimates_and_growth_by_gender_df[col].nunique() == 1]\n",
    "population_estimates_and_growth_by_gender_df = population_estimates_and_growth_by_gender_df.drop(columns=cols_to_drop)"
   ]
  },
  {
   "cell_type": "code",
   "execution_count": 47,
   "metadata": {},
   "outputs": [],
   "source": [
    "population_estimates_and_growth_by_gender_df.rename(columns={'GENDER': 'Gender', 'TIME_PERIOD': 'Time Period', 'OBS_VALUE': 'Value'}, inplace=True)"
   ]
  },
  {
   "cell_type": "code",
   "execution_count": 48,
   "metadata": {},
   "outputs": [],
   "source": [
    "population_estimates_and_growth_by_gender_df['Gender'] = population_estimates_and_growth_by_gender_df['Gender'].replace({\n",
    "    'M': 'Male',\n",
    "    'F': 'Female',\n",
    "    '_T': 'Total'\n",
    "})"
   ]
  },
  {
   "cell_type": "code",
   "execution_count": 49,
   "metadata": {},
   "outputs": [
    {
     "data": {
      "text/html": [
       "<div>\n",
       "<style scoped>\n",
       "    .dataframe tbody tr th:only-of-type {\n",
       "        vertical-align: middle;\n",
       "    }\n",
       "\n",
       "    .dataframe tbody tr th {\n",
       "        vertical-align: top;\n",
       "    }\n",
       "\n",
       "    .dataframe thead th {\n",
       "        text-align: right;\n",
       "    }\n",
       "</style>\n",
       "<table border=\"1\" class=\"dataframe\">\n",
       "  <thead>\n",
       "    <tr style=\"text-align: right;\">\n",
       "      <th></th>\n",
       "      <th>Gender</th>\n",
       "      <th>Time Period</th>\n",
       "      <th>Value</th>\n",
       "    </tr>\n",
       "  </thead>\n",
       "  <tbody>\n",
       "    <tr>\n",
       "      <th>0</th>\n",
       "      <td>Male</td>\n",
       "      <td>1970</td>\n",
       "      <td>149195</td>\n",
       "    </tr>\n",
       "    <tr>\n",
       "      <th>1</th>\n",
       "      <td>Male</td>\n",
       "      <td>1971</td>\n",
       "      <td>181473</td>\n",
       "    </tr>\n",
       "    <tr>\n",
       "      <th>2</th>\n",
       "      <td>Male</td>\n",
       "      <td>1972</td>\n",
       "      <td>221774</td>\n",
       "    </tr>\n",
       "    <tr>\n",
       "      <th>3</th>\n",
       "      <td>Male</td>\n",
       "      <td>1973</td>\n",
       "      <td>268398</td>\n",
       "    </tr>\n",
       "    <tr>\n",
       "      <th>4</th>\n",
       "      <td>Male</td>\n",
       "      <td>1974</td>\n",
       "      <td>322544</td>\n",
       "    </tr>\n",
       "    <tr>\n",
       "      <th>...</th>\n",
       "      <td>...</td>\n",
       "      <td>...</td>\n",
       "      <td>...</td>\n",
       "    </tr>\n",
       "    <tr>\n",
       "      <th>157</th>\n",
       "      <td>Total</td>\n",
       "      <td>2019</td>\n",
       "      <td>9512778</td>\n",
       "    </tr>\n",
       "    <tr>\n",
       "      <th>158</th>\n",
       "      <td>Total</td>\n",
       "      <td>2020</td>\n",
       "      <td>9289297</td>\n",
       "    </tr>\n",
       "    <tr>\n",
       "      <th>159</th>\n",
       "      <td>Total</td>\n",
       "      <td>2021</td>\n",
       "      <td>9861007</td>\n",
       "    </tr>\n",
       "    <tr>\n",
       "      <th>160</th>\n",
       "      <td>Total</td>\n",
       "      <td>2022</td>\n",
       "      <td>10288946</td>\n",
       "    </tr>\n",
       "    <tr>\n",
       "      <th>161</th>\n",
       "      <td>Total</td>\n",
       "      <td>2023</td>\n",
       "      <td>10678556</td>\n",
       "    </tr>\n",
       "  </tbody>\n",
       "</table>\n",
       "<p>162 rows × 3 columns</p>\n",
       "</div>"
      ],
      "text/plain": [
       "    Gender  Time Period     Value\n",
       "0     Male         1970    149195\n",
       "1     Male         1971    181473\n",
       "2     Male         1972    221774\n",
       "3     Male         1973    268398\n",
       "4     Male         1974    322544\n",
       "..     ...          ...       ...\n",
       "157  Total         2019   9512778\n",
       "158  Total         2020   9289297\n",
       "159  Total         2021   9861007\n",
       "160  Total         2022  10288946\n",
       "161  Total         2023  10678556\n",
       "\n",
       "[162 rows x 3 columns]"
      ]
     },
     "execution_count": 49,
     "metadata": {},
     "output_type": "execute_result"
    }
   ],
   "source": [
    "population_estimates_and_growth_by_gender_df"
   ]
  },
  {
   "cell_type": "markdown",
   "metadata": {},
   "source": [
    "# Population Indicators"
   ]
  },
  {
   "cell_type": "markdown",
   "metadata": {},
   "source": [
    "## Data Understanding"
   ]
  },
  {
   "cell_type": "code",
   "execution_count": 50,
   "metadata": {},
   "outputs": [
    {
     "data": {
      "text/html": [
       "<div>\n",
       "<style scoped>\n",
       "    .dataframe tbody tr th:only-of-type {\n",
       "        vertical-align: middle;\n",
       "    }\n",
       "\n",
       "    .dataframe tbody tr th {\n",
       "        vertical-align: top;\n",
       "    }\n",
       "\n",
       "    .dataframe thead th {\n",
       "        text-align: right;\n",
       "    }\n",
       "</style>\n",
       "<table border=\"1\" class=\"dataframe\">\n",
       "  <thead>\n",
       "    <tr style=\"text-align: right;\">\n",
       "      <th></th>\n",
       "      <th>DATAFLOW</th>\n",
       "      <th>MEASURE</th>\n",
       "      <th>POP_IND</th>\n",
       "      <th>UNIT_MEASURE</th>\n",
       "      <th>REF_AREA</th>\n",
       "      <th>FREQ</th>\n",
       "      <th>GENDER</th>\n",
       "      <th>SOURCE_DETAIL</th>\n",
       "      <th>TIME_PERIOD</th>\n",
       "      <th>OBS_VALUE</th>\n",
       "      <th>DECIMALS</th>\n",
       "    </tr>\n",
       "  </thead>\n",
       "  <tbody>\n",
       "    <tr>\n",
       "      <th>0</th>\n",
       "      <td>FCSA:DF_POP_IND(2.7.0)</td>\n",
       "      <td>POPIND</td>\n",
       "      <td>MED</td>\n",
       "      <td>YEARS</td>\n",
       "      <td>AE</td>\n",
       "      <td>A</td>\n",
       "      <td>_Z</td>\n",
       "      <td>FCSC</td>\n",
       "      <td>2019</td>\n",
       "      <td>31.30</td>\n",
       "      <td>1</td>\n",
       "    </tr>\n",
       "    <tr>\n",
       "      <th>1</th>\n",
       "      <td>FCSA:DF_POP_IND(2.7.0)</td>\n",
       "      <td>POPIND</td>\n",
       "      <td>MED</td>\n",
       "      <td>YEARS</td>\n",
       "      <td>AE</td>\n",
       "      <td>A</td>\n",
       "      <td>_Z</td>\n",
       "      <td>FCSC</td>\n",
       "      <td>2020</td>\n",
       "      <td>32.80</td>\n",
       "      <td>1</td>\n",
       "    </tr>\n",
       "    <tr>\n",
       "      <th>2</th>\n",
       "      <td>FCSA:DF_POP_IND(2.7.0)</td>\n",
       "      <td>POPIND</td>\n",
       "      <td>CDR</td>\n",
       "      <td>RATIO</td>\n",
       "      <td>AE</td>\n",
       "      <td>A</td>\n",
       "      <td>_Z</td>\n",
       "      <td>FCSC</td>\n",
       "      <td>2019</td>\n",
       "      <td>20.37</td>\n",
       "      <td>1</td>\n",
       "    </tr>\n",
       "    <tr>\n",
       "      <th>3</th>\n",
       "      <td>FCSA:DF_POP_IND(2.7.0)</td>\n",
       "      <td>POPIND</td>\n",
       "      <td>CDR</td>\n",
       "      <td>RATIO</td>\n",
       "      <td>AE</td>\n",
       "      <td>A</td>\n",
       "      <td>_Z</td>\n",
       "      <td>FCSC</td>\n",
       "      <td>2020</td>\n",
       "      <td>17.90</td>\n",
       "      <td>1</td>\n",
       "    </tr>\n",
       "    <tr>\n",
       "      <th>4</th>\n",
       "      <td>FCSA:DF_POP_IND(2.7.0)</td>\n",
       "      <td>POPIND</td>\n",
       "      <td>LEB</td>\n",
       "      <td>YEARS</td>\n",
       "      <td>AE</td>\n",
       "      <td>A</td>\n",
       "      <td>_Z</td>\n",
       "      <td>FCSC</td>\n",
       "      <td>2019</td>\n",
       "      <td>79.90</td>\n",
       "      <td>1</td>\n",
       "    </tr>\n",
       "  </tbody>\n",
       "</table>\n",
       "</div>"
      ],
      "text/plain": [
       "                 DATAFLOW MEASURE POP_IND UNIT_MEASURE REF_AREA FREQ GENDER  \\\n",
       "0  FCSA:DF_POP_IND(2.7.0)  POPIND     MED        YEARS       AE    A     _Z   \n",
       "1  FCSA:DF_POP_IND(2.7.0)  POPIND     MED        YEARS       AE    A     _Z   \n",
       "2  FCSA:DF_POP_IND(2.7.0)  POPIND     CDR        RATIO       AE    A     _Z   \n",
       "3  FCSA:DF_POP_IND(2.7.0)  POPIND     CDR        RATIO       AE    A     _Z   \n",
       "4  FCSA:DF_POP_IND(2.7.0)  POPIND     LEB        YEARS       AE    A     _Z   \n",
       "\n",
       "  SOURCE_DETAIL  TIME_PERIOD  OBS_VALUE  DECIMALS  \n",
       "0          FCSC         2019      31.30         1  \n",
       "1          FCSC         2020      32.80         1  \n",
       "2          FCSC         2019      20.37         1  \n",
       "3          FCSC         2020      17.90         1  \n",
       "4          FCSC         2019      79.90         1  "
      ]
     },
     "execution_count": 50,
     "metadata": {},
     "output_type": "execute_result"
    }
   ],
   "source": [
    "population_indicators_df.head()"
   ]
  },
  {
   "cell_type": "code",
   "execution_count": 51,
   "metadata": {},
   "outputs": [
    {
     "name": "stdout",
     "output_type": "stream",
     "text": [
      "<class 'pandas.core.frame.DataFrame'>\n",
      "RangeIndex: 18 entries, 0 to 17\n",
      "Data columns (total 11 columns):\n",
      " #   Column         Non-Null Count  Dtype  \n",
      "---  ------         --------------  -----  \n",
      " 0   DATAFLOW       18 non-null     object \n",
      " 1   MEASURE        18 non-null     object \n",
      " 2   POP_IND        18 non-null     object \n",
      " 3   UNIT_MEASURE   18 non-null     object \n",
      " 4   REF_AREA       18 non-null     object \n",
      " 5   FREQ           18 non-null     object \n",
      " 6   GENDER         18 non-null     object \n",
      " 7   SOURCE_DETAIL  18 non-null     object \n",
      " 8   TIME_PERIOD    18 non-null     int64  \n",
      " 9   OBS_VALUE      18 non-null     float64\n",
      " 10  DECIMALS       18 non-null     int64  \n",
      "dtypes: float64(1), int64(2), object(8)\n",
      "memory usage: 1.7+ KB\n"
     ]
    }
   ],
   "source": [
    "population_indicators_df.info()"
   ]
  },
  {
   "cell_type": "code",
   "execution_count": 52,
   "metadata": {},
   "outputs": [
    {
     "name": "stdout",
     "output_type": "stream",
     "text": [
      "DATAFLOW                      1\n",
      "MEASURE                       1\n",
      "POP_IND                       11\n",
      "UNIT_MEASURE                  3\n",
      "REF_AREA                      1\n",
      "FREQ                          1\n",
      "GENDER                        1\n",
      "SOURCE_DETAIL                 1\n",
      "TIME_PERIOD                   2\n",
      "OBS_VALUE                     18\n",
      "DECIMALS                      1\n"
     ]
    }
   ],
   "source": [
    "for column in population_indicators_df.columns:\n",
    "    unique_values = population_indicators_df[column].nunique()\n",
    "    print(\"{:<30}{}\".format(column, unique_values))"
   ]
  },
  {
   "cell_type": "code",
   "execution_count": 53,
   "metadata": {},
   "outputs": [
    {
     "name": "stdout",
     "output_type": "stream",
     "text": [
      "DATAFLOW                      DATAFLOW\n",
      "FCSA:DF_POP_IND(2.7.0)    18\n",
      "Name: count, dtype: int64\n",
      "MEASURE                       MEASURE\n",
      "POPIND    18\n",
      "Name: count, dtype: int64\n",
      "POP_IND                       POP_IND\n",
      "MED       2\n",
      "CDR       2\n",
      "LEB       2\n",
      "POPDEN    2\n",
      "EDR       2\n",
      "ADR       2\n",
      "GR        2\n",
      "LEBM      1\n",
      "MEDM      1\n",
      "LEBF      1\n",
      "MEDF      1\n",
      "Name: count, dtype: int64\n",
      "UNIT_MEASURE                  UNIT_MEASURE\n",
      "YEARS    8\n",
      "RATIO    8\n",
      "PS       2\n",
      "Name: count, dtype: int64\n",
      "REF_AREA                      REF_AREA\n",
      "AE    18\n",
      "Name: count, dtype: int64\n",
      "FREQ                          FREQ\n",
      "A    18\n",
      "Name: count, dtype: int64\n",
      "GENDER                        GENDER\n",
      "_Z    18\n",
      "Name: count, dtype: int64\n",
      "SOURCE_DETAIL                 SOURCE_DETAIL\n",
      "FCSC    18\n",
      "Name: count, dtype: int64\n",
      "TIME_PERIOD                   TIME_PERIOD\n",
      "2020    11\n",
      "2019     7\n",
      "Name: count, dtype: int64\n",
      "OBS_VALUE                     OBS_VALUE\n",
      "31.300     1\n",
      "32.800     1\n",
      "196.890    1\n",
      "20.000     1\n",
      "22.430     1\n",
      "2.100      1\n",
      "2.057      1\n",
      "130.700    1\n",
      "133.800    1\n",
      "31.200     1\n",
      "81.400     1\n",
      "33.500     1\n",
      "78.000     1\n",
      "79.700     1\n",
      "79.900     1\n",
      "17.900     1\n",
      "20.370     1\n",
      "229.900    1\n",
      "Name: count, dtype: int64\n",
      "DECIMALS                      DECIMALS\n",
      "1    18\n",
      "Name: count, dtype: int64\n"
     ]
    }
   ],
   "source": [
    "for column in population_indicators_df.columns:\n",
    "    unique_values = population_indicators_df[column].value_counts()\n",
    "    print(\"{:<30}{}\".format(column, unique_values))"
   ]
  },
  {
   "cell_type": "code",
   "execution_count": 54,
   "metadata": {},
   "outputs": [
    {
     "data": {
      "text/plain": [
       "0"
      ]
     },
     "execution_count": 54,
     "metadata": {},
     "output_type": "execute_result"
    }
   ],
   "source": [
    "population_indicators_df.duplicated().sum()"
   ]
  },
  {
   "cell_type": "code",
   "execution_count": 55,
   "metadata": {},
   "outputs": [
    {
     "data": {
      "text/plain": [
       "DATAFLOW         0\n",
       "MEASURE          0\n",
       "POP_IND          0\n",
       "UNIT_MEASURE     0\n",
       "REF_AREA         0\n",
       "FREQ             0\n",
       "GENDER           0\n",
       "SOURCE_DETAIL    0\n",
       "TIME_PERIOD      0\n",
       "OBS_VALUE        0\n",
       "DECIMALS         0\n",
       "dtype: int64"
      ]
     },
     "execution_count": 55,
     "metadata": {},
     "output_type": "execute_result"
    }
   ],
   "source": [
    "population_indicators_df.isnull().sum()"
   ]
  },
  {
   "cell_type": "code",
   "execution_count": 56,
   "metadata": {},
   "outputs": [
    {
     "data": {
      "text/plain": [
       "array([[<Axes: title={'center': 'TIME_PERIOD'}>,\n",
       "        <Axes: title={'center': 'OBS_VALUE'}>],\n",
       "       [<Axes: title={'center': 'DECIMALS'}>, <Axes: >]], dtype=object)"
      ]
     },
     "execution_count": 56,
     "metadata": {},
     "output_type": "execute_result"
    },
    {
     "data": {
      "image/png": "[encoded data removed]",
      "text/plain": [
       "<Figure size 1000x1000 with 4 Axes>"
      ]
     },
     "metadata": {},
     "output_type": "display_data"
    }
   ],
   "source": [
    "population_indicators_df.hist(figsize=(10, 10))"
   ]
  },
  {
   "cell_type": "markdown",
   "metadata": {},
   "source": [
    "## Data Cleaning"
   ]
  },
  {
   "cell_type": "code",
   "execution_count": 57,
   "metadata": {},
   "outputs": [],
   "source": [
    "cols_to_drop = [col for col in population_indicators_df.columns if population_indicators_df[col].nunique() == 1]\n",
    "population_indicators_df = population_indicators_df.drop(columns=cols_to_drop)"
   ]
  },
  {
   "cell_type": "code",
   "execution_count": 58,
   "metadata": {},
   "outputs": [],
   "source": [
    "population_indicators_df.rename(columns={'POP_IND': 'Population Indicator', 'UNIT_MEASURE': 'Unit of Measure', 'TIME_PERIOD': 'Time_Period', 'OBS_VALUE': 'Value'}, inplace=True)"
   ]
  },
  {
   "cell_type": "code",
   "execution_count": 59,
   "metadata": {},
   "outputs": [],
   "source": [
    "population_indicators_df['Population Indicator'] = population_indicators_df['Population Indicator'].replace({\n",
    "    'GR': 'Gender Ratio',\n",
    "    'LEB': 'Life expectancy at birth (in years)',\n",
    "    'LEBM': 'Life expectancy at birth for males (in years)',\n",
    "    'LEBF': 'Life exepctancy at birth for females (in years)',\n",
    "    'MED': 'Median age (in years)',\n",
    "    'MEDM': 'Median age for males (in years)',\n",
    "    'MEDF': 'Median age for females (in years)',\n",
    "    'ADR': 'Age dependancy ratio',\n",
    "    'CDR': 'Children dependancy ratio',\n",
    "    'EDR': 'Elderly dependancy ratio',\n",
    "    'POPDEN': 'Population density (per km2)',\n",
    "    })"
   ]
  },
  {
   "cell_type": "code",
   "execution_count": 60,
   "metadata": {},
   "outputs": [],
   "source": [
    "population_indicators_df['Unit of Measure'] = population_indicators_df['Unit of Measure'].replace({\n",
    "    'RATIO': 'Ratio',\n",
    "    'YEARS': 'Years',\n",
    "    'PS': 'Persons'\n",
    "    })"
   ]
  },
  {
   "cell_type": "code",
   "execution_count": 61,
   "metadata": {},
   "outputs": [
    {
     "data": {
      "text/html": [
       "<div>\n",
       "<style scoped>\n",
       "    .dataframe tbody tr th:only-of-type {\n",
       "        vertical-align: middle;\n",
       "    }\n",
       "\n",
       "    .dataframe tbody tr th {\n",
       "        vertical-align: top;\n",
       "    }\n",
       "\n",
       "    .dataframe thead th {\n",
       "        text-align: right;\n",
       "    }\n",
       "</style>\n",
       "<table border=\"1\" class=\"dataframe\">\n",
       "  <thead>\n",
       "    <tr style=\"text-align: right;\">\n",
       "      <th></th>\n",
       "      <th>Population Indicator</th>\n",
       "      <th>Unit of Measure</th>\n",
       "      <th>Time_Period</th>\n",
       "      <th>Value</th>\n",
       "    </tr>\n",
       "  </thead>\n",
       "  <tbody>\n",
       "    <tr>\n",
       "      <th>0</th>\n",
       "      <td>Median age (in years)</td>\n",
       "      <td>Years</td>\n",
       "      <td>2019</td>\n",
       "      <td>31.300</td>\n",
       "    </tr>\n",
       "    <tr>\n",
       "      <th>1</th>\n",
       "      <td>Median age (in years)</td>\n",
       "      <td>Years</td>\n",
       "      <td>2020</td>\n",
       "      <td>32.800</td>\n",
       "    </tr>\n",
       "    <tr>\n",
       "      <th>2</th>\n",
       "      <td>Children dependancy ratio</td>\n",
       "      <td>Ratio</td>\n",
       "      <td>2019</td>\n",
       "      <td>20.370</td>\n",
       "    </tr>\n",
       "    <tr>\n",
       "      <th>3</th>\n",
       "      <td>Children dependancy ratio</td>\n",
       "      <td>Ratio</td>\n",
       "      <td>2020</td>\n",
       "      <td>17.900</td>\n",
       "    </tr>\n",
       "    <tr>\n",
       "      <th>4</th>\n",
       "      <td>Life expectancy at birth (in years)</td>\n",
       "      <td>Years</td>\n",
       "      <td>2019</td>\n",
       "      <td>79.900</td>\n",
       "    </tr>\n",
       "    <tr>\n",
       "      <th>5</th>\n",
       "      <td>Life expectancy at birth (in years)</td>\n",
       "      <td>Years</td>\n",
       "      <td>2020</td>\n",
       "      <td>79.700</td>\n",
       "    </tr>\n",
       "    <tr>\n",
       "      <th>6</th>\n",
       "      <td>Life expectancy at birth for males (in years)</td>\n",
       "      <td>Years</td>\n",
       "      <td>2020</td>\n",
       "      <td>78.000</td>\n",
       "    </tr>\n",
       "    <tr>\n",
       "      <th>7</th>\n",
       "      <td>Median age for males (in years)</td>\n",
       "      <td>Years</td>\n",
       "      <td>2020</td>\n",
       "      <td>33.500</td>\n",
       "    </tr>\n",
       "    <tr>\n",
       "      <th>8</th>\n",
       "      <td>Life exepctancy at birth for females (in years)</td>\n",
       "      <td>Years</td>\n",
       "      <td>2020</td>\n",
       "      <td>81.400</td>\n",
       "    </tr>\n",
       "    <tr>\n",
       "      <th>9</th>\n",
       "      <td>Median age for females (in years)</td>\n",
       "      <td>Years</td>\n",
       "      <td>2020</td>\n",
       "      <td>31.200</td>\n",
       "    </tr>\n",
       "    <tr>\n",
       "      <th>10</th>\n",
       "      <td>Population density (per km2)</td>\n",
       "      <td>Persons</td>\n",
       "      <td>2019</td>\n",
       "      <td>133.800</td>\n",
       "    </tr>\n",
       "    <tr>\n",
       "      <th>11</th>\n",
       "      <td>Population density (per km2)</td>\n",
       "      <td>Persons</td>\n",
       "      <td>2020</td>\n",
       "      <td>130.700</td>\n",
       "    </tr>\n",
       "    <tr>\n",
       "      <th>12</th>\n",
       "      <td>Elderly dependancy ratio</td>\n",
       "      <td>Ratio</td>\n",
       "      <td>2019</td>\n",
       "      <td>2.057</td>\n",
       "    </tr>\n",
       "    <tr>\n",
       "      <th>13</th>\n",
       "      <td>Elderly dependancy ratio</td>\n",
       "      <td>Ratio</td>\n",
       "      <td>2020</td>\n",
       "      <td>2.100</td>\n",
       "    </tr>\n",
       "    <tr>\n",
       "      <th>14</th>\n",
       "      <td>Age dependancy ratio</td>\n",
       "      <td>Ratio</td>\n",
       "      <td>2019</td>\n",
       "      <td>22.430</td>\n",
       "    </tr>\n",
       "    <tr>\n",
       "      <th>15</th>\n",
       "      <td>Age dependancy ratio</td>\n",
       "      <td>Ratio</td>\n",
       "      <td>2020</td>\n",
       "      <td>20.000</td>\n",
       "    </tr>\n",
       "    <tr>\n",
       "      <th>16</th>\n",
       "      <td>Gender Ratio</td>\n",
       "      <td>Ratio</td>\n",
       "      <td>2019</td>\n",
       "      <td>196.890</td>\n",
       "    </tr>\n",
       "    <tr>\n",
       "      <th>17</th>\n",
       "      <td>Gender Ratio</td>\n",
       "      <td>Ratio</td>\n",
       "      <td>2020</td>\n",
       "      <td>229.900</td>\n",
       "    </tr>\n",
       "  </tbody>\n",
       "</table>\n",
       "</div>"
      ],
      "text/plain": [
       "                               Population Indicator Unit of Measure  \\\n",
       "0                             Median age (in years)           Years   \n",
       "1                             Median age (in years)           Years   \n",
       "2                         Children dependancy ratio           Ratio   \n",
       "3                         Children dependancy ratio           Ratio   \n",
       "4               Life expectancy at birth (in years)           Years   \n",
       "5               Life expectancy at birth (in years)           Years   \n",
       "6     Life expectancy at birth for males (in years)           Years   \n",
       "7                   Median age for males (in years)           Years   \n",
       "8   Life exepctancy at birth for females (in years)           Years   \n",
       "9                 Median age for females (in years)           Years   \n",
       "10                     Population density (per km2)         Persons   \n",
       "11                     Population density (per km2)         Persons   \n",
       "12                         Elderly dependancy ratio           Ratio   \n",
       "13                         Elderly dependancy ratio           Ratio   \n",
       "14                             Age dependancy ratio           Ratio   \n",
       "15                             Age dependancy ratio           Ratio   \n",
       "16                                     Gender Ratio           Ratio   \n",
       "17                                     Gender Ratio           Ratio   \n",
       "\n",
       "    Time_Period    Value  \n",
       "0          2019   31.300  \n",
       "1          2020   32.800  \n",
       "2          2019   20.370  \n",
       "3          2020   17.900  \n",
       "4          2019   79.900  \n",
       "5          2020   79.700  \n",
       "6          2020   78.000  \n",
       "7          2020   33.500  \n",
       "8          2020   81.400  \n",
       "9          2020   31.200  \n",
       "10         2019  133.800  \n",
       "11         2020  130.700  \n",
       "12         2019    2.057  \n",
       "13         2020    2.100  \n",
       "14         2019   22.430  \n",
       "15         2020   20.000  \n",
       "16         2019  196.890  \n",
       "17         2020  229.900  "
      ]
     },
     "execution_count": 61,
     "metadata": {},
     "output_type": "execute_result"
    }
   ],
   "source": [
    "population_indicators_df"
   ]
  },
  {
   "cell_type": "markdown",
   "metadata": {},
   "source": [
    "# Pumping Data into Mongodb"
   ]
  },
  {
   "cell_type": "code",
   "execution_count": 62,
   "metadata": {},
   "outputs": [
    {
     "name": "stdout",
     "output_type": "stream",
     "text": [
      "Data pumped into MongoDB successfully!\n"
     ]
    }
   ],
   "source": [
    "# from pymongo import MongoClient\n",
    "# from dotenv import load_dotenv\n",
    "# import os\n",
    "\n",
    "# # Connect to MongoDB\n",
    "# load_dotenv()\n",
    "\n",
    "# client = MongoClient(os.environ['MONGODB_URI_1'])  # Uses the connection string from your .env file\n",
    "# db = client['tourism_db']\n",
    "\n",
    "# # Convert DataFrame to dictionary\n",
    "# population_estimates_and_growth_by_gender_df = population_estimates_and_growth_by_gender_df.to_dict('records')\n",
    "# population_indicators_df = population_indicators_df.to_dict('records')\n",
    "\n",
    "# # Insert into MongoDB collections\n",
    "# db['guests_by_hotel_type_by_region'].insert_many(population_estimates_and_growth_by_gender_df)\n",
    "# db['population_indicators_df'].insert_many(population_indicators_df)\n",
    "\n",
    "# print(\"Data pumped into MongoDB successfully!\")"
   ]
  }
 ],
 "metadata": {
  "kernelspec": {
   "display_name": "Python 3",
   "language": "python",
   "name": "python3"
  },
  "language_info": {
   "codemirror_mode": {
    "name": "ipython",
    "version": 3
   },
   "file_extension": ".py",
   "mimetype": "text/x-python",
   "name": "python",
   "nbconvert_exporter": "python",
   "pygments_lexer": "ipython3",
   "version": "3.12.4"
  }
 },
 "nbformat": 4,
 "nbformat_minor": 2
}
